{
 "cells": [
  {
   "cell_type": "markdown",
   "id": "789eab12",
   "metadata": {},
   "source": [
    "## Part 1- Polynomial Regularization"
   ]
  },
  {
   "cell_type": "code",
   "execution_count": 1,
   "id": "529f26d1",
   "metadata": {},
   "outputs": [],
   "source": [
    "import numpy as np\n",
    "import pandas as pd\n",
    "import matplotlib.pyplot as plt\n",
    "import seaborn as sns\n",
    "\n",
    "from sklearn.model_selection import train_test_split\n",
    "from sklearn.linear_model import LinearRegression\n",
    "from sklearn.preprocessing import PolynomialFeatures, StandardScaler\n",
    "\n",
    "from sklearn.metrics import r2_score\n",
    "from sklearn.pipeline import Pipeline"
   ]
  },
  {
   "cell_type": "code",
   "execution_count": 2,
   "id": "3f0359ca",
   "metadata": {},
   "outputs": [],
   "source": [
    "x = 6*np.random.rand(200,1) -3\n",
    "y = 0.8 * x**2 + 0.9 * x + 2 + np.random.randn(200,1)\n",
    "\n",
    "# This is just dummy data to check whether the data is good at simple linear regression or polynomial linear regression"
   ]
  },
  {
   "cell_type": "code",
   "execution_count": 3,
   "id": "1f3baa94",
   "metadata": {},
   "outputs": [
    {
     "data": {
      "text/plain": [
       "array([[ 1.44374643],\n",
       "       [ 9.35382234],\n",
       "       [ 3.20645981],\n",
       "       [ 2.47927026],\n",
       "       [13.14497564],\n",
       "       [ 9.75359825],\n",
       "       [ 1.91248714],\n",
       "       [ 4.01780528],\n",
       "       [ 7.0016513 ],\n",
       "       [ 1.01800071],\n",
       "       [ 2.82150645],\n",
       "       [ 5.02921917],\n",
       "       [ 6.02136662],\n",
       "       [ 5.47778571],\n",
       "       [ 2.70178459],\n",
       "       [ 2.27442059],\n",
       "       [ 2.12490467],\n",
       "       [11.900381  ],\n",
       "       [ 4.86374567],\n",
       "       [11.38888887],\n",
       "       [10.11882451],\n",
       "       [ 3.58986843],\n",
       "       [ 4.64284528],\n",
       "       [ 7.77236516],\n",
       "       [ 3.43058265],\n",
       "       [ 2.92550607],\n",
       "       [ 9.73725483],\n",
       "       [ 2.7165357 ],\n",
       "       [ 5.22691791],\n",
       "       [ 1.21786103],\n",
       "       [10.12223035],\n",
       "       [ 1.99881539],\n",
       "       [ 6.82782867],\n",
       "       [ 1.44321234],\n",
       "       [ 3.85877458],\n",
       "       [ 1.25638648],\n",
       "       [10.28518287],\n",
       "       [ 3.72663047],\n",
       "       [ 2.98492112],\n",
       "       [ 3.72957557],\n",
       "       [ 0.6981582 ],\n",
       "       [ 6.09436685],\n",
       "       [ 5.13946834],\n",
       "       [12.72837674],\n",
       "       [ 4.19209991],\n",
       "       [ 4.16077706],\n",
       "       [ 7.65904901],\n",
       "       [ 7.07234277],\n",
       "       [11.12907487],\n",
       "       [ 3.93968358],\n",
       "       [ 2.36878568],\n",
       "       [ 0.85665362],\n",
       "       [ 7.77518604],\n",
       "       [ 4.57418495],\n",
       "       [ 2.42690248],\n",
       "       [ 4.95964777],\n",
       "       [ 2.57043733],\n",
       "       [ 5.34186246],\n",
       "       [ 7.49914696],\n",
       "       [ 3.93450533],\n",
       "       [ 4.02476751],\n",
       "       [ 2.66699765],\n",
       "       [ 7.78207293],\n",
       "       [ 3.84584579],\n",
       "       [ 2.09215883],\n",
       "       [ 0.66584633],\n",
       "       [ 2.70886858],\n",
       "       [ 5.43323392],\n",
       "       [ 5.79645695],\n",
       "       [ 9.96824051],\n",
       "       [ 1.4860513 ],\n",
       "       [ 1.74010599],\n",
       "       [ 2.53188857],\n",
       "       [ 4.29632151],\n",
       "       [ 8.58291654],\n",
       "       [ 6.26547621],\n",
       "       [ 3.4510573 ],\n",
       "       [10.21043834],\n",
       "       [ 2.34867858],\n",
       "       [ 9.63656257],\n",
       "       [ 4.30449199],\n",
       "       [ 4.55183724],\n",
       "       [ 2.43852518],\n",
       "       [ 1.93515934],\n",
       "       [ 4.23878742],\n",
       "       [ 0.65026608],\n",
       "       [ 6.23910783],\n",
       "       [ 4.01106519],\n",
       "       [ 1.62474434],\n",
       "       [ 6.48446505],\n",
       "       [ 5.65292774],\n",
       "       [ 2.6605119 ],\n",
       "       [ 3.71219921],\n",
       "       [ 8.49528227],\n",
       "       [ 3.12084234],\n",
       "       [ 4.92785308],\n",
       "       [ 2.05937862],\n",
       "       [ 5.22853559],\n",
       "       [ 1.94157891],\n",
       "       [ 0.57728296],\n",
       "       [ 5.12725645],\n",
       "       [ 9.65983433],\n",
       "       [ 4.98225703],\n",
       "       [ 1.07396174],\n",
       "       [ 3.38529825],\n",
       "       [ 4.92173035],\n",
       "       [ 4.11152081],\n",
       "       [ 9.91138913],\n",
       "       [ 2.87604466],\n",
       "       [ 5.33290491],\n",
       "       [ 2.79943752],\n",
       "       [ 2.64219074],\n",
       "       [12.4208512 ],\n",
       "       [11.53434395],\n",
       "       [ 7.77751267],\n",
       "       [ 3.92292259],\n",
       "       [ 1.60596254],\n",
       "       [ 7.43626437],\n",
       "       [ 3.68518377],\n",
       "       [ 6.95179579],\n",
       "       [ 6.10468191],\n",
       "       [ 4.33375236],\n",
       "       [ 3.4948152 ],\n",
       "       [ 1.48705107],\n",
       "       [ 1.00479752],\n",
       "       [ 3.76283888],\n",
       "       [ 4.67966901],\n",
       "       [ 3.89755189],\n",
       "       [ 3.54096882],\n",
       "       [ 3.60166469],\n",
       "       [ 4.19504603],\n",
       "       [10.07743645],\n",
       "       [ 3.7292337 ],\n",
       "       [ 4.52726776],\n",
       "       [ 0.92975964],\n",
       "       [ 5.56633684],\n",
       "       [ 4.05124062],\n",
       "       [ 3.95086198],\n",
       "       [ 5.68674462],\n",
       "       [ 4.57707659],\n",
       "       [ 2.87487583],\n",
       "       [ 2.04057088],\n",
       "       [ 3.24625203],\n",
       "       [ 5.7376992 ],\n",
       "       [ 7.22366716],\n",
       "       [ 8.63896244],\n",
       "       [ 4.98894782],\n",
       "       [ 3.53875544],\n",
       "       [ 5.3123568 ],\n",
       "       [ 2.04095098],\n",
       "       [ 4.26197517],\n",
       "       [ 2.81836727],\n",
       "       [ 4.32491085],\n",
       "       [ 5.52564306],\n",
       "       [ 0.79961047],\n",
       "       [ 0.92106621],\n",
       "       [ 1.02062763],\n",
       "       [ 3.45274409],\n",
       "       [10.08099609],\n",
       "       [ 5.5073668 ],\n",
       "       [ 4.53600139],\n",
       "       [ 4.48815755],\n",
       "       [ 4.38412277],\n",
       "       [ 8.05177876],\n",
       "       [ 3.54021972],\n",
       "       [11.50922844],\n",
       "       [ 6.09574366],\n",
       "       [ 1.66694814],\n",
       "       [ 4.11575502],\n",
       "       [ 0.12085478],\n",
       "       [ 1.7055477 ],\n",
       "       [ 5.30501046],\n",
       "       [ 5.01543134],\n",
       "       [ 3.29983212],\n",
       "       [ 5.25110023],\n",
       "       [11.69949855],\n",
       "       [ 0.83723966],\n",
       "       [11.52192146],\n",
       "       [ 3.39311791],\n",
       "       [ 7.72457827],\n",
       "       [ 2.52208565],\n",
       "       [ 7.26995698],\n",
       "       [ 2.97503857],\n",
       "       [ 1.96483888],\n",
       "       [ 1.56076033],\n",
       "       [ 5.1200811 ],\n",
       "       [ 2.24653094],\n",
       "       [ 2.69272541],\n",
       "       [ 5.67355167],\n",
       "       [ 1.36030427],\n",
       "       [10.74864801],\n",
       "       [ 1.40958563],\n",
       "       [ 4.82437154],\n",
       "       [ 2.94702603],\n",
       "       [ 3.8046617 ],\n",
       "       [ 4.16989724],\n",
       "       [ 4.81201603],\n",
       "       [ 3.3926882 ],\n",
       "       [ 3.51177073],\n",
       "       [ 4.03355198]])"
      ]
     },
     "execution_count": 3,
     "metadata": {},
     "output_type": "execute_result"
    }
   ],
   "source": [
    "y"
   ]
  },
  {
   "cell_type": "code",
   "execution_count": 4,
   "id": "ffeaa983",
   "metadata": {},
   "outputs": [
    {
     "data": {
      "image/png": "[encoded data removed]",
      "text/plain": [
       "<Figure size 640x480 with 1 Axes>"
      ]
     },
     "metadata": {},
     "output_type": "display_data"
    }
   ],
   "source": [
    "plt.plot(x,y,'g') # 'g' is a colour\n",
    "plt.xlabel(\"x variable\")\n",
    "plt.ylabel(\"y variable\")\n",
    "plt.show()"
   ]
  },
  {
   "cell_type": "code",
   "execution_count": 5,
   "id": "ec435ef2",
   "metadata": {},
   "outputs": [
    {
     "data": {
      "image/png": "[encoded data removed]",
      "text/plain": [
       "<Figure size 640x480 with 1 Axes>"
      ]
     },
     "metadata": {},
     "output_type": "display_data"
    }
   ],
   "source": [
    "plt.scatter(x=x,y=y)\n",
    "plt.xlabel(\"x variable\")\n",
    "plt.ylabel(\"y variable\")\n",
    "plt.show()"
   ]
  },
  {
   "cell_type": "code",
   "execution_count": 6,
   "id": "3f3e2527",
   "metadata": {},
   "outputs": [],
   "source": [
    "# the above is the acutal plot "
   ]
  },
  {
   "cell_type": "code",
   "execution_count": 7,
   "id": "cbd5d04a",
   "metadata": {},
   "outputs": [],
   "source": [
    "# split the data into train and test split\n",
    "\n",
    "x_train,x_test,y_train,y_test =train_test_split(x,y,test_size = 0.3, random_state = 1)"
   ]
  },
  {
   "cell_type": "code",
   "execution_count": 8,
   "id": "1bb47113",
   "metadata": {},
   "outputs": [
    {
     "data": {
      "text/plain": [
       "LinearRegression()"
      ]
     },
     "execution_count": 8,
     "metadata": {},
     "output_type": "execute_result"
    }
   ],
   "source": [
    "# apply linear regression model\n",
    "\n",
    "linear = LinearRegression()\n",
    "linear.fit(x_train,y_train)"
   ]
  },
  {
   "cell_type": "code",
   "execution_count": 9,
   "id": "f16a5fe9",
   "metadata": {},
   "outputs": [],
   "source": [
    "y_pred_train = linear.predict(x_train)\n",
    "y_pred_test = linear.predict(x_test)"
   ]
  },
  {
   "cell_type": "code",
   "execution_count": 10,
   "id": "d7f4900c",
   "metadata": {},
   "outputs": [
    {
     "name": "stdout",
     "output_type": "stream",
     "text": [
      "0.3188647656591307\n",
      "\n",
      "0.2756241135374643\n"
     ]
    }
   ],
   "source": [
    "# Evaluate the model\n",
    "\n",
    "print(r2_score(y_train,y_pred_train))\n",
    "print()\n",
    "print(r2_score(y_test,y_pred_test))\n"
   ]
  },
  {
   "cell_type": "code",
   "execution_count": 11,
   "id": "1c9d324f",
   "metadata": {},
   "outputs": [
    {
     "data": {
      "image/png": "[encoded data removed]",
      "text/plain": [
       "<Figure size 640x480 with 1 Axes>"
      ]
     },
     "metadata": {},
     "output_type": "display_data"
    }
   ],
   "source": [
    "plt.scatter(x=x,y=y)\n",
    "plt.plot(x_train,y_pred_train,color = \"r\")\n",
    "plt.xlabel(\"x\")\n",
    "plt.ylabel(\"y\")\n",
    "plt.show()"
   ]
  },
  {
   "cell_type": "code",
   "execution_count": 12,
   "id": "366e21ef",
   "metadata": {},
   "outputs": [],
   "source": [
    "# the above is the actual vs predicted and the red line is best fit line(predicted line),\n",
    "# anything below is underfit (or by seeing x_train =0.36,y_pred_train=0.4)"
   ]
  },
  {
   "cell_type": "markdown",
   "id": "52c0a1b6",
   "metadata": {},
   "source": [
    "## Applying Polynomial Linear Regression method with degree = 2"
   ]
  },
  {
   "cell_type": "code",
   "execution_count": 13,
   "id": "a60ffbb7",
   "metadata": {},
   "outputs": [],
   "source": [
    "# When we don't get good accuracy in simple linear regression, we use polynomial linear regression"
   ]
  },
  {
   "cell_type": "code",
   "execution_count": 14,
   "id": "b1bd38b4",
   "metadata": {},
   "outputs": [],
   "source": [
    "poly = PolynomialFeatures(degree = 2, include_bias = True) \n",
    "# bias = intercept, # degree =2 => (y=8 to y=0) & (y=0 to y=13) total=2\n",
    "x_train_trans = poly.fit_transform(x_train)\n",
    "x_test_trans = poly.fit_transform(x_test)"
   ]
  },
  {
   "cell_type": "code",
   "execution_count": 15,
   "id": "774a0884",
   "metadata": {},
   "outputs": [
    {
     "data": {
      "text/plain": [
       "LinearRegression()"
      ]
     },
     "execution_count": 15,
     "metadata": {},
     "output_type": "execute_result"
    }
   ],
   "source": [
    "# build polynomial linear regression\n",
    "\n",
    "linear_1 = LinearRegression()\n",
    "linear_1.fit(x_train_trans, y_train)"
   ]
  },
  {
   "cell_type": "code",
   "execution_count": 16,
   "id": "18725a09",
   "metadata": {},
   "outputs": [],
   "source": [
    "# predict \n",
    "\n",
    "y_pred_train_ply = linear_1.predict(x_train_trans)\n",
    "y_pred_test_ply = linear_1.predict(x_test_trans)"
   ]
  },
  {
   "cell_type": "code",
   "execution_count": 17,
   "id": "5f87e8d4",
   "metadata": {},
   "outputs": [
    {
     "name": "stdout",
     "output_type": "stream",
     "text": [
      "0.88111728709565\n",
      "\n",
      "0.8527189287231761\n"
     ]
    }
   ],
   "source": [
    "# Evaluate the model\n",
    "\n",
    "print(r2_score(y_train,y_pred_train_ply))\n",
    "print()\n",
    "print(r2_score(y_test,y_pred_test_ply))"
   ]
  },
  {
   "cell_type": "code",
   "execution_count": 18,
   "id": "afa572a3",
   "metadata": {},
   "outputs": [
    {
     "data": {
      "image/png": "[encoded data removed]",
      "text/plain": [
       "<Figure size 640x480 with 1 Axes>"
      ]
     },
     "metadata": {},
     "output_type": "display_data"
    }
   ],
   "source": [
    "plt.scatter(x=x,y=y)\n",
    "plt.plot(x_train_trans,y_pred_train_ply,color = \"r\")\n",
    "plt.xlabel(\"x\")\n",
    "plt.ylabel(\"y\")\n",
    "plt.show()"
   ]
  },
  {
   "cell_type": "markdown",
   "id": "280fe8da",
   "metadata": {},
   "source": [
    "## Case 2 -Regularization Approach"
   ]
  },
  {
   "cell_type": "code",
   "execution_count": 19,
   "id": "4eb4d552",
   "metadata": {},
   "outputs": [
    {
     "data": {
      "text/html": [
       "<div>\n",
       "<style scoped>\n",
       "    .dataframe tbody tr th:only-of-type {\n",
       "        vertical-align: middle;\n",
       "    }\n",
       "\n",
       "    .dataframe tbody tr th {\n",
       "        vertical-align: top;\n",
       "    }\n",
       "\n",
       "    .dataframe thead th {\n",
       "        text-align: right;\n",
       "    }\n",
       "</style>\n",
       "<table border=\"1\" class=\"dataframe\">\n",
       "  <thead>\n",
       "    <tr style=\"text-align: right;\">\n",
       "      <th></th>\n",
       "      <th>mpg</th>\n",
       "      <th>cylinders</th>\n",
       "      <th>displacement</th>\n",
       "      <th>horsepower</th>\n",
       "      <th>weight</th>\n",
       "      <th>acceleration</th>\n",
       "      <th>model_year</th>\n",
       "      <th>origin</th>\n",
       "      <th>name</th>\n",
       "    </tr>\n",
       "  </thead>\n",
       "  <tbody>\n",
       "    <tr>\n",
       "      <th>0</th>\n",
       "      <td>18.0</td>\n",
       "      <td>8</td>\n",
       "      <td>307.0</td>\n",
       "      <td>130</td>\n",
       "      <td>3504</td>\n",
       "      <td>12.0</td>\n",
       "      <td>70</td>\n",
       "      <td>1</td>\n",
       "      <td>chevrolet chevelle malibu</td>\n",
       "    </tr>\n",
       "    <tr>\n",
       "      <th>1</th>\n",
       "      <td>15.0</td>\n",
       "      <td>8</td>\n",
       "      <td>350.0</td>\n",
       "      <td>165</td>\n",
       "      <td>3693</td>\n",
       "      <td>11.5</td>\n",
       "      <td>70</td>\n",
       "      <td>1</td>\n",
       "      <td>buick skylark 320</td>\n",
       "    </tr>\n",
       "    <tr>\n",
       "      <th>2</th>\n",
       "      <td>18.0</td>\n",
       "      <td>8</td>\n",
       "      <td>318.0</td>\n",
       "      <td>150</td>\n",
       "      <td>3436</td>\n",
       "      <td>11.0</td>\n",
       "      <td>70</td>\n",
       "      <td>1</td>\n",
       "      <td>plymouth satellite</td>\n",
       "    </tr>\n",
       "    <tr>\n",
       "      <th>3</th>\n",
       "      <td>16.0</td>\n",
       "      <td>8</td>\n",
       "      <td>304.0</td>\n",
       "      <td>150</td>\n",
       "      <td>3433</td>\n",
       "      <td>12.0</td>\n",
       "      <td>70</td>\n",
       "      <td>1</td>\n",
       "      <td>amc rebel sst</td>\n",
       "    </tr>\n",
       "    <tr>\n",
       "      <th>4</th>\n",
       "      <td>17.0</td>\n",
       "      <td>8</td>\n",
       "      <td>302.0</td>\n",
       "      <td>140</td>\n",
       "      <td>3449</td>\n",
       "      <td>10.5</td>\n",
       "      <td>70</td>\n",
       "      <td>1</td>\n",
       "      <td>ford torino</td>\n",
       "    </tr>\n",
       "  </tbody>\n",
       "</table>\n",
       "</div>"
      ],
      "text/plain": [
       "    mpg  cylinders  displacement horsepower  weight  acceleration  model_year  \\\n",
       "0  18.0          8         307.0        130    3504          12.0          70   \n",
       "1  15.0          8         350.0        165    3693          11.5          70   \n",
       "2  18.0          8         318.0        150    3436          11.0          70   \n",
       "3  16.0          8         304.0        150    3433          12.0          70   \n",
       "4  17.0          8         302.0        140    3449          10.5          70   \n",
       "\n",
       "   origin                       name  \n",
       "0       1  chevrolet chevelle malibu  \n",
       "1       1          buick skylark 320  \n",
       "2       1         plymouth satellite  \n",
       "3       1              amc rebel sst  \n",
       "4       1                ford torino  "
      ]
     },
     "execution_count": 19,
     "metadata": {},
     "output_type": "execute_result"
    }
   ],
   "source": [
    "mpg_df = pd.read_csv(\"D:\\Learnbay\\Stats & ML by Kumar Sundaram Sir\\Documents\\ML\\mpg.csv\")\n",
    "mpg_df.head()"
   ]
  },
  {
   "cell_type": "code",
   "execution_count": 20,
   "id": "d6b76a99",
   "metadata": {},
   "outputs": [
    {
     "data": {
      "text/plain": [
       "1    249\n",
       "3     79\n",
       "2     70\n",
       "Name: origin, dtype: int64"
      ]
     },
     "execution_count": 20,
     "metadata": {},
     "output_type": "execute_result"
    }
   ],
   "source": [
    "mpg_df['origin'].value_counts()"
   ]
  },
  {
   "cell_type": "code",
   "execution_count": 21,
   "id": "69fc38c7",
   "metadata": {},
   "outputs": [
    {
     "data": {
      "text/html": [
       "<div>\n",
       "<style scoped>\n",
       "    .dataframe tbody tr th:only-of-type {\n",
       "        vertical-align: middle;\n",
       "    }\n",
       "\n",
       "    .dataframe tbody tr th {\n",
       "        vertical-align: top;\n",
       "    }\n",
       "\n",
       "    .dataframe thead th {\n",
       "        text-align: right;\n",
       "    }\n",
       "</style>\n",
       "<table border=\"1\" class=\"dataframe\">\n",
       "  <thead>\n",
       "    <tr style=\"text-align: right;\">\n",
       "      <th></th>\n",
       "      <th>mpg</th>\n",
       "      <th>cylinders</th>\n",
       "      <th>displacement</th>\n",
       "      <th>horsepower</th>\n",
       "      <th>weight</th>\n",
       "      <th>acceleration</th>\n",
       "      <th>model_year</th>\n",
       "      <th>origin</th>\n",
       "      <th>name</th>\n",
       "    </tr>\n",
       "  </thead>\n",
       "  <tbody>\n",
       "    <tr>\n",
       "      <th>0</th>\n",
       "      <td>18.0</td>\n",
       "      <td>8</td>\n",
       "      <td>307.0</td>\n",
       "      <td>130</td>\n",
       "      <td>3504</td>\n",
       "      <td>12.0</td>\n",
       "      <td>70</td>\n",
       "      <td>america</td>\n",
       "      <td>chevrolet chevelle malibu</td>\n",
       "    </tr>\n",
       "    <tr>\n",
       "      <th>1</th>\n",
       "      <td>15.0</td>\n",
       "      <td>8</td>\n",
       "      <td>350.0</td>\n",
       "      <td>165</td>\n",
       "      <td>3693</td>\n",
       "      <td>11.5</td>\n",
       "      <td>70</td>\n",
       "      <td>america</td>\n",
       "      <td>buick skylark 320</td>\n",
       "    </tr>\n",
       "    <tr>\n",
       "      <th>2</th>\n",
       "      <td>18.0</td>\n",
       "      <td>8</td>\n",
       "      <td>318.0</td>\n",
       "      <td>150</td>\n",
       "      <td>3436</td>\n",
       "      <td>11.0</td>\n",
       "      <td>70</td>\n",
       "      <td>america</td>\n",
       "      <td>plymouth satellite</td>\n",
       "    </tr>\n",
       "    <tr>\n",
       "      <th>3</th>\n",
       "      <td>16.0</td>\n",
       "      <td>8</td>\n",
       "      <td>304.0</td>\n",
       "      <td>150</td>\n",
       "      <td>3433</td>\n",
       "      <td>12.0</td>\n",
       "      <td>70</td>\n",
       "      <td>america</td>\n",
       "      <td>amc rebel sst</td>\n",
       "    </tr>\n",
       "    <tr>\n",
       "      <th>4</th>\n",
       "      <td>17.0</td>\n",
       "      <td>8</td>\n",
       "      <td>302.0</td>\n",
       "      <td>140</td>\n",
       "      <td>3449</td>\n",
       "      <td>10.5</td>\n",
       "      <td>70</td>\n",
       "      <td>america</td>\n",
       "      <td>ford torino</td>\n",
       "    </tr>\n",
       "  </tbody>\n",
       "</table>\n",
       "</div>"
      ],
      "text/plain": [
       "    mpg  cylinders  displacement horsepower  weight  acceleration  model_year  \\\n",
       "0  18.0          8         307.0        130    3504          12.0          70   \n",
       "1  15.0          8         350.0        165    3693          11.5          70   \n",
       "2  18.0          8         318.0        150    3436          11.0          70   \n",
       "3  16.0          8         304.0        150    3433          12.0          70   \n",
       "4  17.0          8         302.0        140    3449          10.5          70   \n",
       "\n",
       "    origin                       name  \n",
       "0  america  chevrolet chevelle malibu  \n",
       "1  america          buick skylark 320  \n",
       "2  america         plymouth satellite  \n",
       "3  america              amc rebel sst  \n",
       "4  america                ford torino  "
      ]
     },
     "execution_count": 21,
     "metadata": {},
     "output_type": "execute_result"
    }
   ],
   "source": [
    "mpg_df['origin'] = mpg_df['origin'].replace({1:\"america\",2:\"europe\",3:\"asia\"})\n",
    "mpg_df.head()"
   ]
  },
  {
   "cell_type": "code",
   "execution_count": 22,
   "id": "20034d5f",
   "metadata": {},
   "outputs": [],
   "source": [
    "mpg_df =pd.get_dummies(mpg_df,columns = ['origin'])"
   ]
  },
  {
   "cell_type": "code",
   "execution_count": 23,
   "id": "df0fc5ae",
   "metadata": {},
   "outputs": [
    {
     "data": {
      "text/html": [
       "<div>\n",
       "<style scoped>\n",
       "    .dataframe tbody tr th:only-of-type {\n",
       "        vertical-align: middle;\n",
       "    }\n",
       "\n",
       "    .dataframe tbody tr th {\n",
       "        vertical-align: top;\n",
       "    }\n",
       "\n",
       "    .dataframe thead th {\n",
       "        text-align: right;\n",
       "    }\n",
       "</style>\n",
       "<table border=\"1\" class=\"dataframe\">\n",
       "  <thead>\n",
       "    <tr style=\"text-align: right;\">\n",
       "      <th></th>\n",
       "      <th>mpg</th>\n",
       "      <th>cylinders</th>\n",
       "      <th>displacement</th>\n",
       "      <th>horsepower</th>\n",
       "      <th>weight</th>\n",
       "      <th>acceleration</th>\n",
       "      <th>model_year</th>\n",
       "      <th>name</th>\n",
       "      <th>origin_america</th>\n",
       "      <th>origin_asia</th>\n",
       "      <th>origin_europe</th>\n",
       "    </tr>\n",
       "  </thead>\n",
       "  <tbody>\n",
       "    <tr>\n",
       "      <th>0</th>\n",
       "      <td>18.0</td>\n",
       "      <td>8</td>\n",
       "      <td>307.0</td>\n",
       "      <td>130</td>\n",
       "      <td>3504</td>\n",
       "      <td>12.0</td>\n",
       "      <td>70</td>\n",
       "      <td>chevrolet chevelle malibu</td>\n",
       "      <td>1</td>\n",
       "      <td>0</td>\n",
       "      <td>0</td>\n",
       "    </tr>\n",
       "    <tr>\n",
       "      <th>1</th>\n",
       "      <td>15.0</td>\n",
       "      <td>8</td>\n",
       "      <td>350.0</td>\n",
       "      <td>165</td>\n",
       "      <td>3693</td>\n",
       "      <td>11.5</td>\n",
       "      <td>70</td>\n",
       "      <td>buick skylark 320</td>\n",
       "      <td>1</td>\n",
       "      <td>0</td>\n",
       "      <td>0</td>\n",
       "    </tr>\n",
       "    <tr>\n",
       "      <th>2</th>\n",
       "      <td>18.0</td>\n",
       "      <td>8</td>\n",
       "      <td>318.0</td>\n",
       "      <td>150</td>\n",
       "      <td>3436</td>\n",
       "      <td>11.0</td>\n",
       "      <td>70</td>\n",
       "      <td>plymouth satellite</td>\n",
       "      <td>1</td>\n",
       "      <td>0</td>\n",
       "      <td>0</td>\n",
       "    </tr>\n",
       "    <tr>\n",
       "      <th>3</th>\n",
       "      <td>16.0</td>\n",
       "      <td>8</td>\n",
       "      <td>304.0</td>\n",
       "      <td>150</td>\n",
       "      <td>3433</td>\n",
       "      <td>12.0</td>\n",
       "      <td>70</td>\n",
       "      <td>amc rebel sst</td>\n",
       "      <td>1</td>\n",
       "      <td>0</td>\n",
       "      <td>0</td>\n",
       "    </tr>\n",
       "    <tr>\n",
       "      <th>4</th>\n",
       "      <td>17.0</td>\n",
       "      <td>8</td>\n",
       "      <td>302.0</td>\n",
       "      <td>140</td>\n",
       "      <td>3449</td>\n",
       "      <td>10.5</td>\n",
       "      <td>70</td>\n",
       "      <td>ford torino</td>\n",
       "      <td>1</td>\n",
       "      <td>0</td>\n",
       "      <td>0</td>\n",
       "    </tr>\n",
       "    <tr>\n",
       "      <th>...</th>\n",
       "      <td>...</td>\n",
       "      <td>...</td>\n",
       "      <td>...</td>\n",
       "      <td>...</td>\n",
       "      <td>...</td>\n",
       "      <td>...</td>\n",
       "      <td>...</td>\n",
       "      <td>...</td>\n",
       "      <td>...</td>\n",
       "      <td>...</td>\n",
       "      <td>...</td>\n",
       "    </tr>\n",
       "    <tr>\n",
       "      <th>393</th>\n",
       "      <td>27.0</td>\n",
       "      <td>4</td>\n",
       "      <td>140.0</td>\n",
       "      <td>86</td>\n",
       "      <td>2790</td>\n",
       "      <td>15.6</td>\n",
       "      <td>82</td>\n",
       "      <td>ford mustang gl</td>\n",
       "      <td>1</td>\n",
       "      <td>0</td>\n",
       "      <td>0</td>\n",
       "    </tr>\n",
       "    <tr>\n",
       "      <th>394</th>\n",
       "      <td>44.0</td>\n",
       "      <td>4</td>\n",
       "      <td>97.0</td>\n",
       "      <td>52</td>\n",
       "      <td>2130</td>\n",
       "      <td>24.6</td>\n",
       "      <td>82</td>\n",
       "      <td>vw pickup</td>\n",
       "      <td>0</td>\n",
       "      <td>0</td>\n",
       "      <td>1</td>\n",
       "    </tr>\n",
       "    <tr>\n",
       "      <th>395</th>\n",
       "      <td>32.0</td>\n",
       "      <td>4</td>\n",
       "      <td>135.0</td>\n",
       "      <td>84</td>\n",
       "      <td>2295</td>\n",
       "      <td>11.6</td>\n",
       "      <td>82</td>\n",
       "      <td>dodge rampage</td>\n",
       "      <td>1</td>\n",
       "      <td>0</td>\n",
       "      <td>0</td>\n",
       "    </tr>\n",
       "    <tr>\n",
       "      <th>396</th>\n",
       "      <td>28.0</td>\n",
       "      <td>4</td>\n",
       "      <td>120.0</td>\n",
       "      <td>79</td>\n",
       "      <td>2625</td>\n",
       "      <td>18.6</td>\n",
       "      <td>82</td>\n",
       "      <td>ford ranger</td>\n",
       "      <td>1</td>\n",
       "      <td>0</td>\n",
       "      <td>0</td>\n",
       "    </tr>\n",
       "    <tr>\n",
       "      <th>397</th>\n",
       "      <td>31.0</td>\n",
       "      <td>4</td>\n",
       "      <td>119.0</td>\n",
       "      <td>82</td>\n",
       "      <td>2720</td>\n",
       "      <td>19.4</td>\n",
       "      <td>82</td>\n",
       "      <td>chevy s-10</td>\n",
       "      <td>1</td>\n",
       "      <td>0</td>\n",
       "      <td>0</td>\n",
       "    </tr>\n",
       "  </tbody>\n",
       "</table>\n",
       "<p>398 rows × 11 columns</p>\n",
       "</div>"
      ],
      "text/plain": [
       "      mpg  cylinders  displacement horsepower  weight  acceleration  \\\n",
       "0    18.0          8         307.0        130    3504          12.0   \n",
       "1    15.0          8         350.0        165    3693          11.5   \n",
       "2    18.0          8         318.0        150    3436          11.0   \n",
       "3    16.0          8         304.0        150    3433          12.0   \n",
       "4    17.0          8         302.0        140    3449          10.5   \n",
       "..    ...        ...           ...        ...     ...           ...   \n",
       "393  27.0          4         140.0         86    2790          15.6   \n",
       "394  44.0          4          97.0         52    2130          24.6   \n",
       "395  32.0          4         135.0         84    2295          11.6   \n",
       "396  28.0          4         120.0         79    2625          18.6   \n",
       "397  31.0          4         119.0         82    2720          19.4   \n",
       "\n",
       "     model_year                       name  origin_america  origin_asia  \\\n",
       "0            70  chevrolet chevelle malibu               1            0   \n",
       "1            70          buick skylark 320               1            0   \n",
       "2            70         plymouth satellite               1            0   \n",
       "3            70              amc rebel sst               1            0   \n",
       "4            70                ford torino               1            0   \n",
       "..          ...                        ...             ...          ...   \n",
       "393          82            ford mustang gl               1            0   \n",
       "394          82                  vw pickup               0            0   \n",
       "395          82              dodge rampage               1            0   \n",
       "396          82                ford ranger               1            0   \n",
       "397          82                 chevy s-10               1            0   \n",
       "\n",
       "     origin_europe  \n",
       "0                0  \n",
       "1                0  \n",
       "2                0  \n",
       "3                0  \n",
       "4                0  \n",
       "..             ...  \n",
       "393              0  \n",
       "394              1  \n",
       "395              0  \n",
       "396              0  \n",
       "397              0  \n",
       "\n",
       "[398 rows x 11 columns]"
      ]
     },
     "execution_count": 23,
     "metadata": {},
     "output_type": "execute_result"
    }
   ],
   "source": [
    "mpg_df"
   ]
  },
  {
   "cell_type": "code",
   "execution_count": 24,
   "id": "a96344bd",
   "metadata": {},
   "outputs": [
    {
     "data": {
      "text/plain": [
       "305"
      ]
     },
     "execution_count": 24,
     "metadata": {},
     "output_type": "execute_result"
    }
   ],
   "source": [
    "mpg_df['name'].nunique()"
   ]
  },
  {
   "cell_type": "code",
   "execution_count": 25,
   "id": "74810d94",
   "metadata": {},
   "outputs": [],
   "source": [
    "mpg_df = mpg_df.drop(['name','origin_america'],axis = 1)"
   ]
  },
  {
   "cell_type": "code",
   "execution_count": 26,
   "id": "ac92cf16",
   "metadata": {},
   "outputs": [
    {
     "data": {
      "text/html": [
       "<div>\n",
       "<style scoped>\n",
       "    .dataframe tbody tr th:only-of-type {\n",
       "        vertical-align: middle;\n",
       "    }\n",
       "\n",
       "    .dataframe tbody tr th {\n",
       "        vertical-align: top;\n",
       "    }\n",
       "\n",
       "    .dataframe thead th {\n",
       "        text-align: right;\n",
       "    }\n",
       "</style>\n",
       "<table border=\"1\" class=\"dataframe\">\n",
       "  <thead>\n",
       "    <tr style=\"text-align: right;\">\n",
       "      <th></th>\n",
       "      <th>mpg</th>\n",
       "      <th>cylinders</th>\n",
       "      <th>displacement</th>\n",
       "      <th>horsepower</th>\n",
       "      <th>weight</th>\n",
       "      <th>acceleration</th>\n",
       "      <th>model_year</th>\n",
       "      <th>origin_asia</th>\n",
       "      <th>origin_europe</th>\n",
       "    </tr>\n",
       "  </thead>\n",
       "  <tbody>\n",
       "    <tr>\n",
       "      <th>0</th>\n",
       "      <td>18.0</td>\n",
       "      <td>8</td>\n",
       "      <td>307.0</td>\n",
       "      <td>130</td>\n",
       "      <td>3504</td>\n",
       "      <td>12.0</td>\n",
       "      <td>70</td>\n",
       "      <td>0</td>\n",
       "      <td>0</td>\n",
       "    </tr>\n",
       "    <tr>\n",
       "      <th>1</th>\n",
       "      <td>15.0</td>\n",
       "      <td>8</td>\n",
       "      <td>350.0</td>\n",
       "      <td>165</td>\n",
       "      <td>3693</td>\n",
       "      <td>11.5</td>\n",
       "      <td>70</td>\n",
       "      <td>0</td>\n",
       "      <td>0</td>\n",
       "    </tr>\n",
       "    <tr>\n",
       "      <th>2</th>\n",
       "      <td>18.0</td>\n",
       "      <td>8</td>\n",
       "      <td>318.0</td>\n",
       "      <td>150</td>\n",
       "      <td>3436</td>\n",
       "      <td>11.0</td>\n",
       "      <td>70</td>\n",
       "      <td>0</td>\n",
       "      <td>0</td>\n",
       "    </tr>\n",
       "    <tr>\n",
       "      <th>3</th>\n",
       "      <td>16.0</td>\n",
       "      <td>8</td>\n",
       "      <td>304.0</td>\n",
       "      <td>150</td>\n",
       "      <td>3433</td>\n",
       "      <td>12.0</td>\n",
       "      <td>70</td>\n",
       "      <td>0</td>\n",
       "      <td>0</td>\n",
       "    </tr>\n",
       "    <tr>\n",
       "      <th>4</th>\n",
       "      <td>17.0</td>\n",
       "      <td>8</td>\n",
       "      <td>302.0</td>\n",
       "      <td>140</td>\n",
       "      <td>3449</td>\n",
       "      <td>10.5</td>\n",
       "      <td>70</td>\n",
       "      <td>0</td>\n",
       "      <td>0</td>\n",
       "    </tr>\n",
       "  </tbody>\n",
       "</table>\n",
       "</div>"
      ],
      "text/plain": [
       "    mpg  cylinders  displacement horsepower  weight  acceleration  model_year  \\\n",
       "0  18.0          8         307.0        130    3504          12.0          70   \n",
       "1  15.0          8         350.0        165    3693          11.5          70   \n",
       "2  18.0          8         318.0        150    3436          11.0          70   \n",
       "3  16.0          8         304.0        150    3433          12.0          70   \n",
       "4  17.0          8         302.0        140    3449          10.5          70   \n",
       "\n",
       "   origin_asia  origin_europe  \n",
       "0            0              0  \n",
       "1            0              0  \n",
       "2            0              0  \n",
       "3            0              0  \n",
       "4            0              0  "
      ]
     },
     "execution_count": 26,
     "metadata": {},
     "output_type": "execute_result"
    }
   ],
   "source": [
    "mpg_df.head()"
   ]
  },
  {
   "cell_type": "code",
   "execution_count": 27,
   "id": "55156aa0",
   "metadata": {},
   "outputs": [
    {
     "data": {
      "text/plain": [
       "mpg              0\n",
       "cylinders        0\n",
       "displacement     0\n",
       "horsepower       0\n",
       "weight           0\n",
       "acceleration     0\n",
       "model_year       0\n",
       "origin_asia      0\n",
       "origin_europe    0\n",
       "dtype: int64"
      ]
     },
     "execution_count": 27,
     "metadata": {},
     "output_type": "execute_result"
    }
   ],
   "source": [
    "mpg_df.isnull().sum()"
   ]
  },
  {
   "cell_type": "code",
   "execution_count": 28,
   "id": "2f89dc45",
   "metadata": {},
   "outputs": [
    {
     "name": "stdout",
     "output_type": "stream",
     "text": [
      "******************************************************* mpg ****************************************\n",
      "\n",
      "{9.0, 10.0, 11.0, 12.0, 13.0, 14.0, 15.0, 16.0, 17.0, 18.0, 19.0, 20.0, 21.0, 22.0, 23.0, 24.0, 25.0, 26.5, 27.5, 26.0, 27.0, 28.0, 29.0, 30.0, 31.0, 32.0, 33.0, 29.5, 35.0, 31.5, 36.0, 33.5, 36.1, 39.4, 43.1, 35.7, 37.3, 41.5, 38.1, 46.6, 40.8, 44.3, 43.4, 44.6, 44.0, 14.5, 15.5, 16.5, 16.9, 17.5, 17.6, 18.5, 18.6, 18.1, 19.9, 19.4, 19.1, 20.5, 20.6, 21.5, 21.1, 21.6, 22.5, 22.4, 23.9, 23.6, 23.5, 24.5, 25.4, 25.1, 25.5, 26.4, 26.6, 27.4, 27.9, 28.4, 28.1, 29.9, 30.5, 30.9, 31.9, 31.6, 32.8, 32.1, 32.2, 32.7, 32.4, 33.8, 32.3, 33.7, 32.9, 34.1, 34.2, 34.5, 34.3, 34.7, 35.1, 34.4, 34.0, 36.4, 37.2, 37.0, 37.7, 38.0, 39.1, 39.0, 40.9, 16.2, 17.7, 18.2, 19.2, 19.8, 20.2, 20.8, 20.3, 22.3, 23.2, 23.8, 23.7, 24.3, 24.2, 25.8, 26.8, 27.2, 28.8, 29.8, 30.7, 31.8, 31.3}\n",
      "\n",
      "******************************************************* cylinders ****************************************\n",
      "\n",
      "{3, 4, 5, 6, 8}\n",
      "\n",
      "******************************************************* displacement ****************************************\n",
      "\n",
      "{68.0, 70.0, 71.0, 72.0, 76.0, 78.0, 79.0, 80.0, 81.0, 83.0, 85.0, 86.0, 88.0, 89.0, 90.0, 91.0, 96.0, 97.0, 98.0, 97.5, 100.0, 101.0, 104.0, 105.0, 107.0, 108.0, 110.0, 111.0, 112.0, 113.0, 114.0, 115.0, 116.0, 119.0, 120.0, 121.0, 122.0, 130.0, 131.0, 134.0, 135.0, 140.0, 141.0, 144.0, 145.0, 146.0, 151.0, 155.0, 156.0, 163.0, 168.0, 171.0, 173.0, 181.0, 183.0, 198.0, 199.0, 200.0, 225.0, 231.0, 232.0, 250.0, 258.0, 260.0, 262.0, 267.0, 302.0, 304.0, 305.0, 307.0, 318.0, 340.0, 350.0, 351.0, 360.0, 383.0, 390.0, 400.0, 429.0, 440.0, 454.0, 455.0}\n",
      "\n",
      "******************************************************* horsepower ****************************************\n",
      "\n",
      "{'60', '53', '165', '?', '46', '68', '193', '89', '210', '79', '125', '91', '88', '150', '102', '70', '155', '138', '58', '64', '137', '63', '76', '69', '180', '92', '225', '103', '66', '113', '65', '87', '133', '81', '77', '96', '107', '140', '105', '122', '135', '83', '90', '170', '74', '148', '152', '84', '198', '215', '130', '71', '220', '75', '97', '132', '86', '230', '200', '129', '190', '94', '98', '85', '54', '145', '93', '175', '167', '158', '49', '115', '67', '52', '160', '78', '82', '153', '116', '112', '110', '48', '120', '80', '149', '208', '95', '100', '62', '139', '142', '72', '108', '61'}\n",
      "\n",
      "******************************************************* weight ****************************************\n",
      "\n",
      "{4096, 4098, 2051, 4100, 2050, 2065, 2070, 2074, 2075, 4129, 2085, 4135, 4140, 4141, 2100, 4154, 2108, 2110, 4165, 2120, 2123, 2124, 2125, 2126, 2130, 2135, 4190, 2144, 2145, 2150, 2155, 2158, 2160, 4209, 2164, 4215, 2171, 4220, 2188, 2189, 4237, 2190, 2200, 2202, 2205, 4257, 2210, 2215, 2219, 2220, 2223, 2226, 4274, 2228, 4278, 2230, 2234, 2245, 4294, 2246, 4295, 2254, 2255, 4312, 2264, 2265, 4325, 2278, 2279, 4335, 2288, 2290, 4341, 2295, 2300, 4354, 2310, 4360, 4363, 2320, 4376, 2330, 4380, 4382, 2335, 4385, 2350, 2370, 2372, 4422, 2375, 4425, 2379, 2380, 2385, 2391, 4440, 2395, 2401, 2405, 2408, 4456, 4457, 4464, 2420, 2430, 2434, 4498, 4499, 2451, 4502, 2464, 2472, 2489, 2490, 2500, 2506, 2511, 2515, 2525, 2542, 2545, 2556, 2560, 2565, 4615, 2572, 2575, 2582, 4633, 2585, 2587, 4638, 2592, 2595, 2600, 2605, 4654, 4657, 2615, 4668, 2620, 2625, 2634, 2635, 2639, 2640, 2648, 4699, 2660, 2665, 2670, 2671, 2672, 2678, 4732, 4735, 2694, 4746, 2700, 2702, 2711, 2720, 2725, 2735, 2740, 2745, 2755, 2774, 2789, 2790, 2795, 2800, 2807, 2815, 2830, 2833, 2835, 2855, 4906, 2865, 2868, 2870, 2875, 2890, 2900, 2901, 4951, 4952, 2904, 2905, 4955, 2910, 2914, 2930, 2933, 2945, 4997, 2950, 2957, 2962, 2965, 2979, 2984, 2990, 3003, 3012, 3015, 3021, 3035, 3039, 3060, 3070, 3085, 3086, 5140, 3102, 3121, 3139, 3140, 3150, 3155, 3158, 3160, 3169, 3190, 3193, 3205, 3210, 3211, 3221, 3230, 3233, 3245, 3250, 3264, 3265, 3270, 3278, 3282, 3288, 3302, 3329, 3336, 3353, 3360, 3365, 3380, 3381, 3399, 3410, 3415, 3420, 3425, 3430, 3432, 3433, 3436, 3439, 3445, 3449, 3459, 3465, 3504, 3520, 3525, 3530, 3535, 3563, 3570, 3574, 3605, 3609, 3613, 3620, 3630, 3632, 3645, 3651, 1613, 3664, 3672, 3693, 1649, 3725, 3730, 3735, 3755, 3761, 3777, 3781, 3785, 1755, 1760, 3820, 1773, 3821, 3830, 3840, 1795, 1800, 3850, 3870, 1825, 3880, 1834, 1835, 1836, 3892, 1845, 3897, 1850, 3900, 3907, 1867, 1875, 3940, 3955, 3962, 1915, 1925, 1937, 3988, 1940, 1945, 1950, 1955, 1963, 1965, 1968, 1970, 1975, 1980, 1985, 1990, 4042, 1995, 2000, 2003, 4054, 4055, 4060, 2019, 2020, 2025, 4077, 4080, 4082, 2035, 2045, 2046}\n",
      "\n",
      "******************************************************* acceleration ****************************************\n",
      "\n",
      "{8.5, 9.0, 10.0, 11.0, 10.5, 13.5, 11.5, 12.0, 8.0, 9.5, 15.0, 15.5, 16.0, 14.5, 20.5, 17.5, 18.5, 19.0, 19.5, 18.0, 23.5, 21.0, 22.2, 22.1, 24.8, 24.6, 12.5, 13.0, 14.0, 16.5, 16.9, 16.4, 16.6, 16.1, 17.0, 17.6, 17.4, 17.9, 17.1, 18.6, 18.1, 19.4, 19.9, 19.6, 20.1, 20.4, 21.9, 21.5, 11.4, 12.9, 13.9, 13.4, 14.4, 14.9, 15.4, 15.9, 11.2, 11.3, 12.8, 12.2, 13.2, 13.7, 13.8, 14.3, 14.2, 14.8, 14.7, 15.2, 15.3, 15.7, 15.8, 16.2, 16.7, 16.8, 17.3, 17.7, 17.8, 17.2, 18.2, 18.7, 18.8, 18.3, 19.2, 20.7, 21.7, 21.8, 23.7, 11.1, 11.6, 12.1, 12.6, 13.6, 14.1, 15.1, 15.6}\n",
      "\n",
      "******************************************************* model_year ****************************************\n",
      "\n",
      "{70, 71, 72, 73, 74, 75, 76, 77, 78, 79, 80, 81, 82}\n",
      "\n",
      "******************************************************* origin_asia ****************************************\n",
      "\n",
      "{0, 1}\n",
      "\n",
      "******************************************************* origin_europe ****************************************\n",
      "\n",
      "{0, 1}\n",
      "\n"
     ]
    }
   ],
   "source": [
    "# AS mpg_df.isnull() is showing no null values,but we confirm after seeing unique values in each column\n",
    "\n",
    "for i in mpg_df.columns:\n",
    "    print(\"*******************************************************\",i,\n",
    "                                \"****************************************\")\n",
    "    print()\n",
    "    print(set(mpg_df[i].tolist()))\n",
    "    print()"
   ]
  },
  {
   "cell_type": "code",
   "execution_count": 29,
   "id": "e568d67f",
   "metadata": {},
   "outputs": [],
   "source": [
    "# there is a question mark in horse power, so the answer that we get from isnull()\n",
    "  # is only for null or not, it don't observe anything else"
   ]
  },
  {
   "cell_type": "code",
   "execution_count": 32,
   "id": "47a337e2",
   "metadata": {},
   "outputs": [],
   "source": [
    "mpg_df = mpg_df.replace('?',np.nan)"
   ]
  },
  {
   "cell_type": "code",
   "execution_count": 33,
   "id": "525ba9ea",
   "metadata": {},
   "outputs": [],
   "source": [
    "# coverting horsepower object type to horsepower numeric type\n",
    "\n",
    "mpg_df['horsepower']= pd.to_numeric(mpg_df['horsepower'])"
   ]
  },
  {
   "cell_type": "code",
   "execution_count": 34,
   "id": "5baede0d",
   "metadata": {},
   "outputs": [
    {
     "data": {
      "text/plain": [
       "array([130., 165., 150., 140., 198., 220., 215., 225., 190., 170., 160.,\n",
       "        95.,  97.,  85.,  88.,  46.,  87.,  90., 113., 200., 210., 193.,\n",
       "        nan, 100., 105., 175., 153., 180., 110.,  72.,  86.,  70.,  76.,\n",
       "        65.,  69.,  60.,  80.,  54., 208., 155., 112.,  92., 145., 137.,\n",
       "       158., 167.,  94., 107., 230.,  49.,  75.,  91., 122.,  67.,  83.,\n",
       "        78.,  52.,  61.,  93., 148., 129.,  96.,  71.,  98., 115.,  53.,\n",
       "        81.,  79., 120., 152., 102., 108.,  68.,  58., 149.,  89.,  63.,\n",
       "        48.,  66., 139., 103., 125., 133., 138., 135., 142.,  77.,  62.,\n",
       "       132.,  84.,  64.,  74., 116.,  82.])"
      ]
     },
     "execution_count": 34,
     "metadata": {},
     "output_type": "execute_result"
    }
   ],
   "source": [
    "mpg_df['horsepower'].unique()"
   ]
  },
  {
   "cell_type": "code",
   "execution_count": 35,
   "id": "3e1564a0",
   "metadata": {},
   "outputs": [
    {
     "data": {
      "text/plain": [
       "mpg              0\n",
       "cylinders        0\n",
       "displacement     0\n",
       "horsepower       6\n",
       "weight           0\n",
       "acceleration     0\n",
       "model_year       0\n",
       "origin_asia      0\n",
       "origin_europe    0\n",
       "dtype: int64"
      ]
     },
     "execution_count": 35,
     "metadata": {},
     "output_type": "execute_result"
    }
   ],
   "source": [
    "mpg_df.isnull().sum()\n"
   ]
  },
  {
   "cell_type": "code",
   "execution_count": 36,
   "id": "bf668bb3",
   "metadata": {},
   "outputs": [
    {
     "name": "stdout",
     "output_type": "stream",
     "text": [
      "<class 'pandas.core.frame.DataFrame'>\n",
      "RangeIndex: 398 entries, 0 to 397\n",
      "Data columns (total 9 columns):\n",
      " #   Column         Non-Null Count  Dtype  \n",
      "---  ------         --------------  -----  \n",
      " 0   mpg            398 non-null    float64\n",
      " 1   cylinders      398 non-null    int64  \n",
      " 2   displacement   398 non-null    float64\n",
      " 3   horsepower     392 non-null    float64\n",
      " 4   weight         398 non-null    int64  \n",
      " 5   acceleration   398 non-null    float64\n",
      " 6   model_year     398 non-null    int64  \n",
      " 7   origin_asia    398 non-null    uint8  \n",
      " 8   origin_europe  398 non-null    uint8  \n",
      "dtypes: float64(4), int64(3), uint8(2)\n",
      "memory usage: 22.7 KB\n"
     ]
    }
   ],
   "source": [
    "mpg_df.info()"
   ]
  },
  {
   "cell_type": "code",
   "execution_count": 37,
   "id": "8174393c",
   "metadata": {},
   "outputs": [
    {
     "data": {
      "text/plain": [
       "<AxesSubplot:ylabel='horsepower'>"
      ]
     },
     "execution_count": 37,
     "metadata": {},
     "output_type": "execute_result"
    },
    {
     "data": {
      "image/png": "[encoded data removed]",
      "text/plain": [
       "<Figure size 640x480 with 1 Axes>"
      ]
     },
     "metadata": {},
     "output_type": "display_data"
    }
   ],
   "source": [
    "sns.boxplot(y = mpg_df['horsepower'], data =mpg_df)"
   ]
  },
  {
   "cell_type": "code",
   "execution_count": 38,
   "id": "b2ed29a6",
   "metadata": {},
   "outputs": [],
   "source": [
    "mpg_df['horsepower'] = mpg_df['horsepower'].fillna(mpg_df['horsepower'].median())"
   ]
  },
  {
   "cell_type": "code",
   "execution_count": 39,
   "id": "99983b73",
   "metadata": {},
   "outputs": [
    {
     "data": {
      "text/plain": [
       "mpg              0\n",
       "cylinders        0\n",
       "displacement     0\n",
       "horsepower       0\n",
       "weight           0\n",
       "acceleration     0\n",
       "model_year       0\n",
       "origin_asia      0\n",
       "origin_europe    0\n",
       "dtype: int64"
      ]
     },
     "execution_count": 39,
     "metadata": {},
     "output_type": "execute_result"
    }
   ],
   "source": [
    "mpg_df.isnull().sum()"
   ]
  },
  {
   "cell_type": "code",
   "execution_count": 41,
   "id": "f86a560a",
   "metadata": {},
   "outputs": [
    {
     "data": {
      "text/plain": [
       "Index(['mpg', 'cylinders', 'displacement', 'horsepower', 'weight',\n",
       "       'acceleration', 'model_year', 'origin_asia', 'origin_europe'],\n",
       "      dtype='object')"
      ]
     },
     "execution_count": 41,
     "metadata": {},
     "output_type": "execute_result"
    }
   ],
   "source": [
    "# Split the data into x and y\n",
    "mpg_df.columns"
   ]
  },
  {
   "cell_type": "code",
   "execution_count": 47,
   "id": "f04967f3",
   "metadata": {},
   "outputs": [],
   "source": [
    "x = mpg_df.drop('mpg',axis = 1)\n",
    "y = mpg_df[['mpg']]"
   ]
  },
  {
   "cell_type": "code",
   "execution_count": 49,
   "id": "051e6694",
   "metadata": {},
   "outputs": [
    {
     "data": {
      "text/html": [
       "<div>\n",
       "<style scoped>\n",
       "    .dataframe tbody tr th:only-of-type {\n",
       "        vertical-align: middle;\n",
       "    }\n",
       "\n",
       "    .dataframe tbody tr th {\n",
       "        vertical-align: top;\n",
       "    }\n",
       "\n",
       "    .dataframe thead th {\n",
       "        text-align: right;\n",
       "    }\n",
       "</style>\n",
       "<table border=\"1\" class=\"dataframe\">\n",
       "  <thead>\n",
       "    <tr style=\"text-align: right;\">\n",
       "      <th></th>\n",
       "      <th>cylinders</th>\n",
       "      <th>displacement</th>\n",
       "      <th>horsepower</th>\n",
       "      <th>weight</th>\n",
       "      <th>acceleration</th>\n",
       "      <th>model_year</th>\n",
       "      <th>origin_asia</th>\n",
       "      <th>origin_europe</th>\n",
       "    </tr>\n",
       "  </thead>\n",
       "  <tbody>\n",
       "    <tr>\n",
       "      <th>0</th>\n",
       "      <td>8</td>\n",
       "      <td>307.0</td>\n",
       "      <td>130.0</td>\n",
       "      <td>3504</td>\n",
       "      <td>12.0</td>\n",
       "      <td>70</td>\n",
       "      <td>0</td>\n",
       "      <td>0</td>\n",
       "    </tr>\n",
       "    <tr>\n",
       "      <th>1</th>\n",
       "      <td>8</td>\n",
       "      <td>350.0</td>\n",
       "      <td>165.0</td>\n",
       "      <td>3693</td>\n",
       "      <td>11.5</td>\n",
       "      <td>70</td>\n",
       "      <td>0</td>\n",
       "      <td>0</td>\n",
       "    </tr>\n",
       "    <tr>\n",
       "      <th>2</th>\n",
       "      <td>8</td>\n",
       "      <td>318.0</td>\n",
       "      <td>150.0</td>\n",
       "      <td>3436</td>\n",
       "      <td>11.0</td>\n",
       "      <td>70</td>\n",
       "      <td>0</td>\n",
       "      <td>0</td>\n",
       "    </tr>\n",
       "    <tr>\n",
       "      <th>3</th>\n",
       "      <td>8</td>\n",
       "      <td>304.0</td>\n",
       "      <td>150.0</td>\n",
       "      <td>3433</td>\n",
       "      <td>12.0</td>\n",
       "      <td>70</td>\n",
       "      <td>0</td>\n",
       "      <td>0</td>\n",
       "    </tr>\n",
       "    <tr>\n",
       "      <th>4</th>\n",
       "      <td>8</td>\n",
       "      <td>302.0</td>\n",
       "      <td>140.0</td>\n",
       "      <td>3449</td>\n",
       "      <td>10.5</td>\n",
       "      <td>70</td>\n",
       "      <td>0</td>\n",
       "      <td>0</td>\n",
       "    </tr>\n",
       "  </tbody>\n",
       "</table>\n",
       "</div>"
      ],
      "text/plain": [
       "   cylinders  displacement  horsepower  weight  acceleration  model_year  \\\n",
       "0          8         307.0       130.0    3504          12.0          70   \n",
       "1          8         350.0       165.0    3693          11.5          70   \n",
       "2          8         318.0       150.0    3436          11.0          70   \n",
       "3          8         304.0       150.0    3433          12.0          70   \n",
       "4          8         302.0       140.0    3449          10.5          70   \n",
       "\n",
       "   origin_asia  origin_europe  \n",
       "0            0              0  \n",
       "1            0              0  \n",
       "2            0              0  \n",
       "3            0              0  \n",
       "4            0              0  "
      ]
     },
     "execution_count": 49,
     "metadata": {},
     "output_type": "execute_result"
    }
   ],
   "source": [
    "x.head()"
   ]
  },
  {
   "cell_type": "code",
   "execution_count": 50,
   "id": "8f6f872e",
   "metadata": {},
   "outputs": [
    {
     "data": {
      "text/html": [
       "<div>\n",
       "<style scoped>\n",
       "    .dataframe tbody tr th:only-of-type {\n",
       "        vertical-align: middle;\n",
       "    }\n",
       "\n",
       "    .dataframe tbody tr th {\n",
       "        vertical-align: top;\n",
       "    }\n",
       "\n",
       "    .dataframe thead th {\n",
       "        text-align: right;\n",
       "    }\n",
       "</style>\n",
       "<table border=\"1\" class=\"dataframe\">\n",
       "  <thead>\n",
       "    <tr style=\"text-align: right;\">\n",
       "      <th></th>\n",
       "      <th>mpg</th>\n",
       "    </tr>\n",
       "  </thead>\n",
       "  <tbody>\n",
       "    <tr>\n",
       "      <th>0</th>\n",
       "      <td>18.0</td>\n",
       "    </tr>\n",
       "    <tr>\n",
       "      <th>1</th>\n",
       "      <td>15.0</td>\n",
       "    </tr>\n",
       "    <tr>\n",
       "      <th>2</th>\n",
       "      <td>18.0</td>\n",
       "    </tr>\n",
       "    <tr>\n",
       "      <th>3</th>\n",
       "      <td>16.0</td>\n",
       "    </tr>\n",
       "    <tr>\n",
       "      <th>4</th>\n",
       "      <td>17.0</td>\n",
       "    </tr>\n",
       "  </tbody>\n",
       "</table>\n",
       "</div>"
      ],
      "text/plain": [
       "    mpg\n",
       "0  18.0\n",
       "1  15.0\n",
       "2  18.0\n",
       "3  16.0\n",
       "4  17.0"
      ]
     },
     "execution_count": 50,
     "metadata": {},
     "output_type": "execute_result"
    }
   ],
   "source": [
    "y.head()"
   ]
  },
  {
   "cell_type": "code",
   "execution_count": 52,
   "id": "648ea18e",
   "metadata": {},
   "outputs": [
    {
     "data": {
      "text/html": [
       "<div>\n",
       "<style scoped>\n",
       "    .dataframe tbody tr th:only-of-type {\n",
       "        vertical-align: middle;\n",
       "    }\n",
       "\n",
       "    .dataframe tbody tr th {\n",
       "        vertical-align: top;\n",
       "    }\n",
       "\n",
       "    .dataframe thead th {\n",
       "        text-align: right;\n",
       "    }\n",
       "</style>\n",
       "<table border=\"1\" class=\"dataframe\">\n",
       "  <thead>\n",
       "    <tr style=\"text-align: right;\">\n",
       "      <th></th>\n",
       "      <th>cylinders</th>\n",
       "      <th>displacement</th>\n",
       "      <th>horsepower</th>\n",
       "      <th>weight</th>\n",
       "      <th>acceleration</th>\n",
       "      <th>model_year</th>\n",
       "      <th>origin_asia</th>\n",
       "      <th>origin_europe</th>\n",
       "    </tr>\n",
       "  </thead>\n",
       "  <tbody>\n",
       "    <tr>\n",
       "      <th>0</th>\n",
       "      <td>1.498191</td>\n",
       "      <td>1.090604</td>\n",
       "      <td>0.673118</td>\n",
       "      <td>0.630870</td>\n",
       "      <td>-1.295498</td>\n",
       "      <td>-1.627426</td>\n",
       "      <td>-0.497643</td>\n",
       "      <td>-0.461968</td>\n",
       "    </tr>\n",
       "    <tr>\n",
       "      <th>1</th>\n",
       "      <td>1.498191</td>\n",
       "      <td>1.503514</td>\n",
       "      <td>1.589958</td>\n",
       "      <td>0.854333</td>\n",
       "      <td>-1.477038</td>\n",
       "      <td>-1.627426</td>\n",
       "      <td>-0.497643</td>\n",
       "      <td>-0.461968</td>\n",
       "    </tr>\n",
       "    <tr>\n",
       "      <th>2</th>\n",
       "      <td>1.498191</td>\n",
       "      <td>1.196232</td>\n",
       "      <td>1.197027</td>\n",
       "      <td>0.550470</td>\n",
       "      <td>-1.658577</td>\n",
       "      <td>-1.627426</td>\n",
       "      <td>-0.497643</td>\n",
       "      <td>-0.461968</td>\n",
       "    </tr>\n",
       "    <tr>\n",
       "      <th>3</th>\n",
       "      <td>1.498191</td>\n",
       "      <td>1.061796</td>\n",
       "      <td>1.197027</td>\n",
       "      <td>0.546923</td>\n",
       "      <td>-1.295498</td>\n",
       "      <td>-1.627426</td>\n",
       "      <td>-0.497643</td>\n",
       "      <td>-0.461968</td>\n",
       "    </tr>\n",
       "    <tr>\n",
       "      <th>4</th>\n",
       "      <td>1.498191</td>\n",
       "      <td>1.042591</td>\n",
       "      <td>0.935072</td>\n",
       "      <td>0.565841</td>\n",
       "      <td>-1.840117</td>\n",
       "      <td>-1.627426</td>\n",
       "      <td>-0.497643</td>\n",
       "      <td>-0.461968</td>\n",
       "    </tr>\n",
       "  </tbody>\n",
       "</table>\n",
       "</div>"
      ],
      "text/plain": [
       "   cylinders  displacement  horsepower    weight  acceleration  model_year  \\\n",
       "0   1.498191      1.090604    0.673118  0.630870     -1.295498   -1.627426   \n",
       "1   1.498191      1.503514    1.589958  0.854333     -1.477038   -1.627426   \n",
       "2   1.498191      1.196232    1.197027  0.550470     -1.658577   -1.627426   \n",
       "3   1.498191      1.061796    1.197027  0.546923     -1.295498   -1.627426   \n",
       "4   1.498191      1.042591    0.935072  0.565841     -1.840117   -1.627426   \n",
       "\n",
       "   origin_asia  origin_europe  \n",
       "0    -0.497643      -0.461968  \n",
       "1    -0.497643      -0.461968  \n",
       "2    -0.497643      -0.461968  \n",
       "3    -0.497643      -0.461968  \n",
       "4    -0.497643      -0.461968  "
      ]
     },
     "execution_count": 52,
     "metadata": {},
     "output_type": "execute_result"
    }
   ],
   "source": [
    "# Feature scaling\n",
    "\n",
    "from sklearn.preprocessing import StandardScaler\n",
    "scaler = StandardScaler()\n",
    "x_scaler = scaler.fit_transform(x)\n",
    "x_scaler = pd.DataFrame(x_scaler,columns = x.columns)\n",
    "x_scaler.head()"
   ]
  },
  {
   "cell_type": "code",
   "execution_count": 61,
   "id": "aee95aca",
   "metadata": {},
   "outputs": [],
   "source": [
    "# split the data into train and test\n",
    "from sklearn.model_selection import train_test_split\n",
    "x_train,x_test,y_train,y_test = train_test_split(x_scaler,y,test_size =0.25, random_state = 2)\n"
   ]
  },
  {
   "cell_type": "code",
   "execution_count": 62,
   "id": "09f016b6",
   "metadata": {},
   "outputs": [
    {
     "name": "stdout",
     "output_type": "stream",
     "text": [
      "(298, 8) (100, 8) (298, 1) (100, 1)\n"
     ]
    }
   ],
   "source": [
    "print(x_train.shape,x_test.shape,y_train.shape,y_test.shape)"
   ]
  },
  {
   "cell_type": "code",
   "execution_count": 63,
   "id": "999c1c19",
   "metadata": {},
   "outputs": [],
   "source": [
    "# split the data into train and test\n",
    "from sklearn.model_selection import train_test_split\n",
    "x_train,x_test,y_train,y_test = train_test_split(x_scaler,y, random_state = 2)\n",
    "\n",
    "#it means if we don't mention test_size automatically python takes as 25%"
   ]
  },
  {
   "cell_type": "code",
   "execution_count": 64,
   "id": "f7d444fb",
   "metadata": {},
   "outputs": [
    {
     "name": "stdout",
     "output_type": "stream",
     "text": [
      "(298, 8) (100, 8) (298, 1) (100, 1)\n"
     ]
    }
   ],
   "source": [
    "print(x_train.shape,x_test.shape,y_train.shape,y_test.shape)"
   ]
  },
  {
   "cell_type": "markdown",
   "id": "e1270bf1",
   "metadata": {},
   "source": [
    "## Fit the Linear Regression Model"
   ]
  },
  {
   "cell_type": "code",
   "execution_count": 55,
   "id": "aaa3e798",
   "metadata": {},
   "outputs": [
    {
     "name": "stdout",
     "output_type": "stream",
     "text": [
      "The coefficient for cylinders is -1.1222047695874908\n",
      "The coefficient for displacement is 3.3161559758654726\n",
      "The coefficient for horsepower is -0.9830032614504651\n",
      "The coefficient for weight is -5.940829257647759\n",
      "The coefficient for acceleration is 0.13986472671490585\n",
      "The coefficient for model_year is 2.846321725434406\n",
      "The coefficient for origin_asia is 1.0459970230639621\n",
      "The coefficient for origin_europe is 1.2522091663008028\n"
     ]
    }
   ],
   "source": [
    "regression_model = LinearRegression()\n",
    "regression_model.fit(x_train,y_train)\n",
    "\n",
    "for idx, col_name in enumerate(x_train.columns):\n",
    "    print(\"The coefficient for {} is {}\".format(col_name,regression_model.coef_[0][idx]))"
   ]
  },
  {
   "cell_type": "code",
   "execution_count": 60,
   "id": "66d3c8f7",
   "metadata": {},
   "outputs": [
    {
     "data": {
      "text/plain": [
       "array([[-1.12220477,  3.31615598, -0.98300326, -5.94082926,  0.13986473,\n",
       "         2.84632173,  1.04599702,  1.25220917]])"
      ]
     },
     "execution_count": 60,
     "metadata": {},
     "output_type": "execute_result"
    }
   ],
   "source": [
    "# we can write the above code as mentioned below\n",
    "regression_model.coef_"
   ]
  },
  {
   "cell_type": "code",
   "execution_count": 66,
   "id": "37b812d4",
   "metadata": {},
   "outputs": [
    {
     "data": {
      "text/plain": [
       "array([23.38114617])"
      ]
     },
     "execution_count": 66,
     "metadata": {},
     "output_type": "execute_result"
    }
   ],
   "source": [
    "regression_model.intercept_"
   ]
  },
  {
   "cell_type": "markdown",
   "id": "71ae969e",
   "metadata": {},
   "source": [
    "## part 1 - Regularization: LASSO Model and it's Coefficient"
   ]
  },
  {
   "cell_type": "code",
   "execution_count": 76,
   "id": "e2232684",
   "metadata": {},
   "outputs": [
    {
     "name": "stdout",
     "output_type": "stream",
     "text": [
      "Lasso Coefficient: [-0.          0.         -0.4070251  -4.69410796  0.          2.63344925\n",
      "  0.62063928  0.76494147]\n"
     ]
    }
   ],
   "source": [
    "from sklearn.linear_model import Lasso\n",
    "lasso = Lasso(alpha = 0.1 )\n",
    "lasso.fit(x_train,y_train)\n",
    "print(\"Lasso Coefficient:\",lasso.coef_)"
   ]
  },
  {
   "cell_type": "markdown",
   "id": "104d979c",
   "metadata": {},
   "source": [
    "## part 2 - Regularization: Ridge Model and it's Coefficient"
   ]
  },
  {
   "cell_type": "code",
   "execution_count": 92,
   "id": "ee4b610f",
   "metadata": {},
   "outputs": [
    {
     "name": "stdout",
     "output_type": "stream",
     "text": [
      "Ridge Coefficient: [[-1.07894685  3.16612627 -0.99160727 -5.84538306  0.12364257  2.83529029\n",
      "   1.03651229  1.2370243 ]]\n"
     ]
    }
   ],
   "source": [
    "from sklearn.linear_model import Ridge\n",
    "ridge =Ridge(alpha =0.3)\n",
    "ridge.fit(x_train,y_train)\n",
    "print(\"Ridge Coefficient:\",ridge.coef_)"
   ]
  },
  {
   "cell_type": "code",
   "execution_count": 80,
   "id": "b796d980",
   "metadata": {},
   "outputs": [
    {
     "data": {
      "text/plain": [
       "array([[-1.12220477,  3.31615598, -0.98300326, -5.94082926,  0.13986473,\n",
       "         2.84632173,  1.04599702,  1.25220917]])"
      ]
     },
     "execution_count": 80,
     "metadata": {},
     "output_type": "execute_result"
    }
   ],
   "source": [
    "regression_model.coef_"
   ]
  },
  {
   "cell_type": "code",
   "execution_count": 98,
   "id": "cec0b013",
   "metadata": {},
   "outputs": [
    {
     "data": {
      "text/plain": [
       "ElasticNet(alpha=0.1, l1_ratio=0.3)"
      ]
     },
     "execution_count": 98,
     "metadata": {},
     "output_type": "execute_result"
    }
   ],
   "source": [
    "from sklearn.linear_model import ElasticNet \n",
    "elastic = ElasticNet(alpha =0.1,l1_ratio = 0.3)\n",
    "elastic.fit(x_train,y_train)\n"
   ]
  },
  {
   "cell_type": "markdown",
   "id": "f816950b",
   "metadata": {},
   "source": [
    "## Compare Accuracy"
   ]
  },
  {
   "cell_type": "code",
   "execution_count": 99,
   "id": "4947c5a5",
   "metadata": {},
   "outputs": [],
   "source": [
    "y_pred_train_lr = regression_model.predict(x_train)\n",
    "y_pred_test_lr = regression_model.predict(x_test)\n",
    "\n",
    "y_pred_train_lasso = lasso.predict(x_train)\n",
    "y_pred_test_lasso = lasso.predict(x_test)\n",
    "\n",
    "y_pred_train_ridge = ridge.predict(x_train)\n",
    "y_pred_test_ridge = ridge.predict(x_test)\n",
    "\n",
    "y_pred_train_el = elastic.predict(x_train)\n",
    "y_pred_test_el = elastic.predict(x_test)"
   ]
  },
  {
   "cell_type": "code",
   "execution_count": 100,
   "id": "025e75da",
   "metadata": {},
   "outputs": [
    {
     "name": "stdout",
     "output_type": "stream",
     "text": [
      "Linear Regression Training: 0.809879596644161\n",
      "\n",
      "Linear Regression Testing: 0.8564835957286592\n",
      "\n",
      "Lasso Training: 0.8016770597561529\n",
      "\n",
      "Lasso Testing: 0.8588117365773466\n",
      "\n",
      "Ridge Training: 0.8098605896582229\n",
      "\n",
      "Ridge Testing: 0.8569528879357781\n",
      "\n",
      "ElasticNet Training: 0.7971473336585453\n",
      "\n",
      "ElasticNet Testing: 0.8473719197732293\n"
     ]
    }
   ],
   "source": [
    "print(\"Linear Regression Training:\", r2_score(y_train,y_pred_train_lr))\n",
    "print()\n",
    "print(\"Linear Regression Testing:\", r2_score(y_test,y_pred_test_lr))\n",
    "\n",
    "print()\n",
    "\n",
    "print(\"Lasso Training:\", r2_score(y_train,y_pred_train_lasso))\n",
    "print()\n",
    "print(\"Lasso Testing:\", r2_score(y_test,y_pred_test_lasso))\n",
    "\n",
    "print()\n",
    "\n",
    "print(\"Ridge Training:\", r2_score(y_train,y_pred_train_ridge))\n",
    "print()\n",
    "print(\"Ridge Testing:\", r2_score(y_test,y_pred_test_ridge))\n",
    "\n",
    "print()\n",
    "\n",
    "print(\"ElasticNet Training:\", r2_score(y_train,y_pred_train_el))\n",
    "print()\n",
    "print(\"ElasticNet Testing:\", r2_score(y_test,y_pred_test_el))"
   ]
  },
  {
   "cell_type": "code",
   "execution_count": null,
   "id": "bb2fa971",
   "metadata": {},
   "outputs": [],
   "source": []
  }
 ],
 "metadata": {
  "kernelspec": {
   "display_name": "Python 3 (ipykernel)",
   "language": "python",
   "name": "python3"
  },
  "language_info": {
   "codemirror_mode": {
    "name": "ipython",
    "version": 3
   },
   "file_extension": ".py",
   "mimetype": "text/x-python",
   "name": "python",
   "nbconvert_exporter": "python",
   "pygments_lexer": "ipython3",
   "version": "3.9.13"
  }
 },
 "nbformat": 4,
 "nbformat_minor": 5
}
