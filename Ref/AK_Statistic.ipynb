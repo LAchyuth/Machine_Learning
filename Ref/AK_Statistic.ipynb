{
 "cells": [
  {
   "cell_type": "code",
   "execution_count": 30,
   "id": "82791b6e-c1d2-41bd-93d0-59af8c8ed230",
   "metadata": {},
   "outputs": [
    {
     "name": "stdout",
     "output_type": "stream",
     "text": [
      "15.571428571428571 15.0 20 20\n"
     ]
    }
   ],
   "source": [
    "import numpy as np\n",
    "from scipy import stats\n",
    "\n",
    "data = [12, 15, 14, 10, 18, 20,20]\n",
    "mean = np.mean(data)\n",
    "median = np.median(data)\n",
    "mode = max(set(data),key = data.count)\n",
    "mode1 = stats.mode(data)[0]\n",
    "\n",
    "print(mean,median,mode,mode1)"
   ]
  },
  {
   "cell_type": "code",
   "execution_count": 5,
   "id": "2f1bdb42-441d-4453-8f60-b1febaa75d5e",
   "metadata": {},
   "outputs": [
    {
     "data": {
      "text/plain": [
       "'Tails'"
      ]
     },
     "execution_count": 5,
     "metadata": {},
     "output_type": "execute_result"
    }
   ],
   "source": [
    "# Probability Introduction\n",
    "\n",
    "import random\n",
    "out = random.choice(['Heads','Tails'])\n",
    "out"
   ]
  },
  {
   "cell_type": "code",
   "execution_count": 16,
   "id": "531949dc-b5f5-4438-b2be-dda2daf04d27",
   "metadata": {},
   "outputs": [
    {
     "data": {
      "text/plain": [
       "2"
      ]
     },
     "execution_count": 16,
     "metadata": {},
     "output_type": "execute_result"
    }
   ],
   "source": [
    "out1 = random.randint(1,6)\n",
    "out1"
   ]
  },
  {
   "cell_type": "code",
   "execution_count": 19,
   "id": "6741d3a6-60db-4bae-aaaf-a52601cd6567",
   "metadata": {},
   "outputs": [
    {
     "name": "stdout",
     "output_type": "stream",
     "text": [
      "P(A or B): 0.8\n"
     ]
    }
   ],
   "source": [
    "# Non-mutually exclusive example\n",
    "P_A = 0.5  # Probability of A\n",
    "P_B = 0.6  # Probability of B\n",
    "P_A_and_B = 0.3  # Probability of A and B occurring together\n",
    "\n",
    "P_A_or_B = P_A + P_B - P_A_and_B\n",
    "print(\"P(A or B):\", P_A_or_B)"
   ]
  },
  {
   "cell_type": "code",
   "execution_count": 34,
   "id": "e3bb9abf-f062-4e92-a2e9-caff009ba148",
   "metadata": {},
   "outputs": [
    {
     "data": {
      "text/plain": [
       "(18.89876812807154, 21.386946157642743)"
      ]
     },
     "execution_count": 34,
     "metadata": {},
     "output_type": "execute_result"
    }
   ],
   "source": [
    "from scipy import stats\n",
    "\n",
    "sample = [20, 21, 22, 19, 18, 20, 21]\n",
    "\n",
    "confidence_interval = 0.95\n",
    "degrees_of_freedom = len(sample)-1\n",
    "sample_mean = np.mean(sample)\n",
    "standard_error_mean = stats.sem(sample)\n",
    "\n",
    "confidence_int = stats.t.interval(confidence_interval,degrees_of_freedom,sample_mean,standard_error_mean)\n",
    "confidence_int"
   ]
  },
  {
   "cell_type": "code",
   "execution_count": null,
   "id": "22a66fc1-e03b-416b-80b8-d9b612d0336b",
   "metadata": {},
   "outputs": [],
   "source": []
  },
  {
   "cell_type": "code",
   "execution_count": 37,
   "id": "d3a72ba5-c932-4b37-9bef-de9b0b966837",
   "metadata": {},
   "outputs": [
    {
     "name": "stdout",
     "output_type": "stream",
     "text": [
      "[1, 2, 3, 4, 5, 6, 7, 8, 9]\n",
      "4\n",
      "[2, 3, 7]\n"
     ]
    }
   ],
   "source": [
    "population = [i for i in range(1,10)]\n",
    "sample = random.randint(1,10)\n",
    "sample1 = random.sample(population,3)\n",
    "print(population)\n",
    "print(sample)\n",
    "print(sample1)"
   ]
  },
  {
   "cell_type": "code",
   "execution_count": 39,
   "id": "799684aa-9bbd-45c3-a09a-e85d4e74060c",
   "metadata": {},
   "outputs": [
    {
     "data": {
      "text/html": [
       "<div>\n",
       "<style scoped>\n",
       "    .dataframe tbody tr th:only-of-type {\n",
       "        vertical-align: middle;\n",
       "    }\n",
       "\n",
       "    .dataframe tbody tr th {\n",
       "        vertical-align: top;\n",
       "    }\n",
       "\n",
       "    .dataframe thead th {\n",
       "        text-align: right;\n",
       "    }\n",
       "</style>\n",
       "<table border=\"1\" class=\"dataframe\">\n",
       "  <thead>\n",
       "    <tr style=\"text-align: right;\">\n",
       "      <th></th>\n",
       "      <th>Name</th>\n",
       "      <th>Age</th>\n",
       "      <th>City</th>\n",
       "    </tr>\n",
       "  </thead>\n",
       "  <tbody>\n",
       "    <tr>\n",
       "      <th>0</th>\n",
       "      <td>Alice</td>\n",
       "      <td>24</td>\n",
       "      <td>New York</td>\n",
       "    </tr>\n",
       "    <tr>\n",
       "      <th>1</th>\n",
       "      <td>Bob</td>\n",
       "      <td>27</td>\n",
       "      <td>Los Angeles</td>\n",
       "    </tr>\n",
       "    <tr>\n",
       "      <th>2</th>\n",
       "      <td>Charlie</td>\n",
       "      <td>22</td>\n",
       "      <td>Chicago</td>\n",
       "    </tr>\n",
       "    <tr>\n",
       "      <th>3</th>\n",
       "      <td>David</td>\n",
       "      <td>32</td>\n",
       "      <td>Houston</td>\n",
       "    </tr>\n",
       "    <tr>\n",
       "      <th>4</th>\n",
       "      <td>Eva</td>\n",
       "      <td>29</td>\n",
       "      <td>Phoenix</td>\n",
       "    </tr>\n",
       "  </tbody>\n",
       "</table>\n",
       "</div>"
      ],
      "text/plain": [
       "      Name  Age         City\n",
       "0    Alice   24     New York\n",
       "1      Bob   27  Los Angeles\n",
       "2  Charlie   22      Chicago\n",
       "3    David   32      Houston\n",
       "4      Eva   29      Phoenix"
      ]
     },
     "execution_count": 39,
     "metadata": {},
     "output_type": "execute_result"
    }
   ],
   "source": [
    "import pandas as pd\n",
    "data = {\n",
    "    'Name': ['Alice', 'Bob', 'Charlie', 'David', 'Eva'],\n",
    "    'Age': [24, 27, 22, 32, 29],\n",
    "    'City': ['New York', 'Los Angeles', 'Chicago', 'Houston', 'Phoenix']\n",
    "}\n",
    "df = pd.DataFrame(data)\n",
    "df"
   ]
  },
  {
   "cell_type": "code",
   "execution_count": 47,
   "id": "1840802a-7c49-4e00-800d-1cefc1cbefad",
   "metadata": {},
   "outputs": [
    {
     "data": {
      "text/html": [
       "<div>\n",
       "<style scoped>\n",
       "    .dataframe tbody tr th:only-of-type {\n",
       "        vertical-align: middle;\n",
       "    }\n",
       "\n",
       "    .dataframe tbody tr th {\n",
       "        vertical-align: top;\n",
       "    }\n",
       "\n",
       "    .dataframe thead th {\n",
       "        text-align: right;\n",
       "    }\n",
       "</style>\n",
       "<table border=\"1\" class=\"dataframe\">\n",
       "  <thead>\n",
       "    <tr style=\"text-align: right;\">\n",
       "      <th></th>\n",
       "      <th>Name</th>\n",
       "      <th>Age</th>\n",
       "      <th>City</th>\n",
       "    </tr>\n",
       "  </thead>\n",
       "  <tbody>\n",
       "    <tr>\n",
       "      <th>1</th>\n",
       "      <td>Bob</td>\n",
       "      <td>27</td>\n",
       "      <td>Los Angeles</td>\n",
       "    </tr>\n",
       "    <tr>\n",
       "      <th>4</th>\n",
       "      <td>Eva</td>\n",
       "      <td>29</td>\n",
       "      <td>Phoenix</td>\n",
       "    </tr>\n",
       "  </tbody>\n",
       "</table>\n",
       "</div>"
      ],
      "text/plain": [
       "  Name  Age         City\n",
       "1  Bob   27  Los Angeles\n",
       "4  Eva   29      Phoenix"
      ]
     },
     "execution_count": 47,
     "metadata": {},
     "output_type": "execute_result"
    }
   ],
   "source": [
    "sample = df.sample(frac = 0.5,random_state = 42)\n",
    "sample"
   ]
  },
  {
   "cell_type": "code",
   "execution_count": 48,
   "id": "08dfb3ea-5e77-4e5c-8992-7235f917374f",
   "metadata": {},
   "outputs": [
    {
     "name": "stdout",
     "output_type": "stream",
     "text": [
      "13.102040816326532 3.619674131234265\n"
     ]
    }
   ],
   "source": [
    "data = [12, 15, 14, 10, 18, 20,20]\n",
    "variance = np.var(data)\n",
    "std = np.std(data)\n",
    "print(variance,std)"
   ]
  },
  {
   "cell_type": "code",
   "execution_count": 49,
   "id": "01c5f08d-21a8-437c-b881-e541d6c6be4d",
   "metadata": {},
   "outputs": [
    {
     "name": "stdout",
     "output_type": "stream",
     "text": [
      "Population Mean: 5.0\n",
      "Sample Mean: Age    28.0\n",
      "dtype: float64\n"
     ]
    },
    {
     "name": "stderr",
     "output_type": "stream",
     "text": [
      "C:\\Users\\achyu\\anaconda3\\lib\\site-packages\\numpy\\core\\fromnumeric.py:3430: FutureWarning: In a future version, DataFrame.mean(axis=None) will return a scalar mean over the entire DataFrame. To retain the old behavior, use 'frame.mean(axis=0)' or just 'frame.mean()'\n",
      "  return mean(axis=axis, dtype=dtype, out=out, **kwargs)\n",
      "C:\\Users\\achyu\\anaconda3\\lib\\site-packages\\numpy\\core\\fromnumeric.py:3430: FutureWarning: The default value of numeric_only in DataFrame.mean is deprecated. In a future version, it will default to False. In addition, specifying 'numeric_only=None' is deprecated. Select only valid columns or specify the value of numeric_only to silence this warning.\n",
      "  return mean(axis=axis, dtype=dtype, out=out, **kwargs)\n"
     ]
    }
   ],
   "source": [
    "print(\"Population Mean:\", np.mean(population))\n",
    "print(\"Sample Mean:\", np.mean(sample))"
   ]
  },
  {
   "cell_type": "code",
   "execution_count": 57,
   "id": "494a297a-6d8d-4170-912f-0f30d75d5b7b",
   "metadata": {},
   "outputs": [
    {
     "name": "stdout",
     "output_type": "stream",
     "text": [
      "3    4\n",
      "2    3\n",
      "4    3\n",
      "1    1\n",
      "6    1\n",
      "5    1\n",
      "dtype: int64 0      1\n",
      "1      3\n",
      "2      5\n",
      "3      8\n",
      "4     11\n",
      "5     14\n",
      "6     18\n",
      "7     24\n",
      "8     27\n",
      "9     31\n",
      "10    35\n",
      "11    37\n",
      "12    42\n",
      "dtype: int64\n"
     ]
    }
   ],
   "source": [
    "data = [1, 2, 2, 3, 3, 3, 4,6,3, 4, 4, 2,5]\n",
    "freq = pd.Series(data).value_counts()\n",
    "cum_sum = pd.Series(data).cumsum()\n",
    "print(freq,cum_sum)"
   ]
  },
  {
   "cell_type": "code",
   "execution_count": 59,
   "id": "63f65464-c3a7-4391-b754-93052e0d83d2",
   "metadata": {},
   "outputs": [
    {
     "data": {
      "image/png": "[encoded data removed]",
      "text/plain": [
       "<Figure size 640x480 with 1 Axes>"
      ]
     },
     "metadata": {},
     "output_type": "display_data"
    }
   ],
   "source": [
    "import matplotlib.pyplot as plt\n",
    "\n",
    "plt.hist(data,bins = 5,edgecolor = 'black',color = 'blue')\n",
    "plt.show()"
   ]
  },
  {
   "cell_type": "code",
   "execution_count": 60,
   "id": "e2ce3d69-729e-41d8-b092-ab5623b928d4",
   "metadata": {},
   "outputs": [
    {
     "data": {
      "image/png": "[encoded data removed]",
      "text/plain": [
       "<Figure size 640x480 with 1 Axes>"
      ]
     },
     "metadata": {},
     "output_type": "display_data"
    }
   ],
   "source": [
    "import matplotlib.pyplot as plt\n",
    "\n",
    "plt.hist(data,bins = 6,edgecolor = 'black',color = 'blue')\n",
    "plt.show()"
   ]
  },
  {
   "cell_type": "code",
   "execution_count": null,
   "id": "018641d5-d71e-466d-a1eb-316f7a7bd1d4",
   "metadata": {},
   "outputs": [],
   "source": []
  },
  {
   "cell_type": "code",
   "execution_count": 72,
   "id": "96ad2747-4b4b-4b17-b95c-09792c2c7470",
   "metadata": {},
   "outputs": [
    {
     "name": "stdout",
     "output_type": "stream",
     "text": [
      "7.0\n",
      "7.0\n"
     ]
    }
   ],
   "source": [
    "data = [1, 2, 3, 4, 5, 6, 7, 8, 9]\n",
    "\n",
    "per_75 = np.percentile(data,75)\n",
    "quantile_75 = np.quantile(data,0.75)\n",
    "print(per_75)\n",
    "print(quantile_75)"
   ]
  },
  {
   "cell_type": "code",
   "execution_count": 88,
   "id": "8618c35c-39fc-4e7e-adcf-5ef7f63c8c3e",
   "metadata": {},
   "outputs": [
    {
     "data": {
      "text/plain": [
       "{'min': 1, 'q1': 3.0, 'median': 5.0, 'q3': 7.0, 'max': 9}"
      ]
     },
     "execution_count": 88,
     "metadata": {},
     "output_type": "execute_result"
    }
   ],
   "source": [
    "data = [1, 2, 3, 4, 5, 6, 7, 8, 9]\n",
    "summary = {'min':np.min(data),\n",
    "           'q1':np.quantile(data,0.25),\n",
    "           'median':np.median(data),\n",
    "           'q3':np.quantile(data,0.75),\n",
    "           'max':np.max(data)}\n",
    "summary\n",
    "           "
   ]
  },
  {
   "cell_type": "code",
   "execution_count": 89,
   "id": "0caed519-521f-4ab6-ab9f-96d871376429",
   "metadata": {},
   "outputs": [
    {
     "data": {
      "text/plain": [
       "4.0"
      ]
     },
     "execution_count": 89,
     "metadata": {},
     "output_type": "execute_result"
    }
   ],
   "source": [
    "iqr = summary['q3'] - summary['q1']\n",
    "iqr"
   ]
  },
  {
   "cell_type": "code",
   "execution_count": 90,
   "id": "06b5d71b-080d-4adb-b73f-8ab497b14aa9",
   "metadata": {},
   "outputs": [
    {
     "data": {
      "image/png": "[encoded data removed]",
      "text/plain": [
       "<Figure size 640x480 with 1 Axes>"
      ]
     },
     "metadata": {},
     "output_type": "display_data"
    }
   ],
   "source": [
    "import seaborn as sns\n",
    "\n",
    "sns.boxplot(data)\n",
    "plt.show()"
   ]
  },
  {
   "cell_type": "code",
   "execution_count": 91,
   "id": "4e079711-cbcc-4a79-a130-9cf21dac0f05",
   "metadata": {},
   "outputs": [
    {
     "data": {
      "text/plain": [
       "[]"
      ]
     },
     "execution_count": 91,
     "metadata": {},
     "output_type": "execute_result"
    }
   ],
   "source": [
    "lw_q = np.quantile(data,0.75) + 1.5*iqr\n",
    "up_q = np.percentile(data,0.25) - 1.5*iqr\n",
    "\n",
    "clean_data = [x for x in data if lw_q<= x <= up_q]\n",
    "clean_data"
   ]
  },
  {
   "cell_type": "code",
   "execution_count": null,
   "id": "616c1753-885e-4346-ac26-d453923617e3",
   "metadata": {},
   "outputs": [],
   "source": []
  },
  {
   "cell_type": "code",
   "execution_count": 78,
   "id": "c061c45a-8aed-40b3-b749-726bf9e2955c",
   "metadata": {},
   "outputs": [
    {
     "data": {
      "text/plain": [
       "4"
      ]
     },
     "execution_count": 78,
     "metadata": {},
     "output_type": "execute_result"
    }
   ],
   "source": [
    "int(4.6)"
   ]
  },
  {
   "cell_type": "code",
   "execution_count": 81,
   "id": "b7d806a3-85b0-450d-bed0-a802dd466200",
   "metadata": {},
   "outputs": [
    {
     "data": {
      "text/plain": [
       "5"
      ]
     },
     "execution_count": 81,
     "metadata": {},
     "output_type": "execute_result"
    }
   ],
   "source": [
    "import math\n",
    "math.ceil(4.9)"
   ]
  },
  {
   "cell_type": "code",
   "execution_count": 82,
   "id": "03b90c86-2dc9-4179-a737-62d9b511dd27",
   "metadata": {},
   "outputs": [
    {
     "data": {
      "text/plain": [
       "4"
      ]
     },
     "execution_count": 82,
     "metadata": {},
     "output_type": "execute_result"
    }
   ],
   "source": [
    "import math\n",
    "math.floor(4.9)"
   ]
  },
  {
   "cell_type": "code",
   "execution_count": 83,
   "id": "02ba8e37-a4f7-49a8-be57-e43f320becf3",
   "metadata": {},
   "outputs": [
    {
     "data": {
      "text/plain": [
       "5"
      ]
     },
     "execution_count": 83,
     "metadata": {},
     "output_type": "execute_result"
    }
   ],
   "source": [
    "round(4.6)"
   ]
  },
  {
   "cell_type": "code",
   "execution_count": 84,
   "id": "05a56860-3c87-438e-b03e-fbb2ece3a519",
   "metadata": {},
   "outputs": [
    {
     "data": {
      "text/plain": [
       "4"
      ]
     },
     "execution_count": 84,
     "metadata": {},
     "output_type": "execute_result"
    }
   ],
   "source": [
    "round(4.4)"
   ]
  },
  {
   "cell_type": "code",
   "execution_count": 92,
   "id": "d7bd6366-1ba8-4d37-9ff2-c4cb05588ecd",
   "metadata": {},
   "outputs": [
    {
     "data": {
      "image/png": "[encoded data removed]",
      "text/plain": [
       "<Figure size 640x480 with 1 Axes>"
      ]
     },
     "metadata": {},
     "output_type": "display_data"
    }
   ],
   "source": [
    "from scipy.stats import norm\n",
    "import numpy as np\n",
    "\n",
    "x = np.linspace(-3, 3, 100)\n",
    "pdf = norm.pdf(x)\n",
    "\n",
    "plt.plot(x, pdf)\n",
    "plt.title(\"Probability Density Function\")\n",
    "plt.show()\n"
   ]
  },
  {
   "cell_type": "code",
   "execution_count": 96,
   "id": "fb2efdf6-b010-4f23-9eee-aeb340c1dc48",
   "metadata": {},
   "outputs": [
    {
     "name": "stdout",
     "output_type": "stream",
     "text": [
      "[0.00443185 0.01087345 0.02414573 0.04852934 0.08827937 0.14534663\n",
      " 0.21659157 0.29212518 0.35660488 0.39400018 0.39400018 0.35660488\n",
      " 0.29212518 0.21659157 0.14534663 0.08827937 0.04852934 0.02414573\n",
      " 0.01087345 0.00443185]\n"
     ]
    },
    {
     "data": {
      "image/png": "[encoded data removed]",
      "text/plain": [
       "<Figure size 640x480 with 1 Axes>"
      ]
     },
     "metadata": {},
     "output_type": "display_data"
    }
   ],
   "source": [
    "from scipy.stats import norm\n",
    "\n",
    "x = np.linspace(-3,3,20)\n",
    "PDF = norm.pdf(x)\n",
    "print(PDF)\n",
    "\n",
    "plt.plot(x,PDF)\n",
    "plt.title(\"Probability Density Function\")\n",
    "plt.show()"
   ]
  },
  {
   "cell_type": "code",
   "execution_count": 102,
   "id": "6ae6f504-444f-4e5c-9ec0-2cccfd1b10fd",
   "metadata": {},
   "outputs": [
    {
     "data": {
      "image/png": "[encoded data removed]",
      "text/plain": [
       "<Figure size 640x480 with 1 Axes>"
      ]
     },
     "metadata": {},
     "output_type": "display_data"
    }
   ],
   "source": [
    "mean,std = 0,1\n",
    "samples = np.random.normal(mean,std,100)\n",
    "\n",
    "plt.hist(samples,bins = 10,density =True)\n",
    "plt.title(\"Normal Distribution\")\n",
    "plt.show()"
   ]
  },
  {
   "cell_type": "code",
   "execution_count": 103,
   "id": "fde7a357-a228-4ba0-88fd-e579389fc273",
   "metadata": {},
   "outputs": [
    {
     "data": {
      "image/png": "[encoded data removed]",
      "text/plain": [
       "<Figure size 640x480 with 1 Axes>"
      ]
     },
     "metadata": {},
     "output_type": "display_data"
    }
   ],
   "source": [
    "mean,std = 0,1\n",
    "samples = np.random.normal(mean,std,100)\n",
    "\n",
    "plt.hist(samples,bins = 10)\n",
    "plt.title(\"Normal Distribution\")\n",
    "plt.show()"
   ]
  },
  {
   "cell_type": "code",
   "execution_count": 109,
   "id": "84fbee8f-5a28-4415-a80c-d77cef092b21",
   "metadata": {},
   "outputs": [
    {
     "data": {
      "text/plain": [
       "array([-6.14972961e-01, -5.70505483e-01, -3.90537518e-01,  1.25530437e+00,\n",
       "        9.70086952e-01, -1.91955985e-01, -8.52482814e-01, -2.21170852e-01,\n",
       "        1.05214484e+00,  1.01826410e-03,  8.24807281e-01,  1.11246447e+00,\n",
       "       -1.96328788e+00,  9.41209399e-01,  7.36811243e-01, -1.24993772e+00,\n",
       "       -3.15871761e+00, -2.51708347e-01,  1.14931255e+00,  9.82273146e-01,\n",
       "        5.52218142e-01, -2.80707205e-01, -2.77022269e-01, -6.05401219e-01,\n",
       "       -9.48491984e-01, -8.31979873e-02, -1.08815623e+00, -3.25441495e-01,\n",
       "        6.98598867e-01,  1.10163121e+00, -3.84538080e-02,  8.54348874e-02,\n",
       "        6.82811884e-01,  2.62411654e-01, -9.25513606e-01, -3.26923847e-01,\n",
       "       -5.99256723e-01, -2.76875715e+00,  1.97646318e+00,  6.27397425e-01,\n",
       "       -1.00351238e-01, -1.08331717e+00,  2.14217686e+00, -4.97114907e-01,\n",
       "        3.74767492e-01,  3.66276364e-01,  2.89295499e-01, -8.24483864e-01,\n",
       "        8.67620669e-01, -5.35315553e-01, -5.98977161e-01,  1.91407900e+00,\n",
       "       -1.21334488e+00, -4.39907324e-02,  4.00539375e-01, -1.22284494e+00,\n",
       "        3.76782205e-01,  4.34528372e-02, -2.03998364e+00, -2.37697820e-01,\n",
       "       -4.83189872e-01,  5.97275373e-01, -2.35353806e-01, -9.17251246e-01,\n",
       "        5.27798723e-01,  1.50648329e-01,  9.09505303e-01, -9.53427238e-01,\n",
       "       -2.30179712e+00, -1.89250100e-01, -2.38853995e-02, -1.67497843e-01,\n",
       "       -1.03855395e+00, -1.04847912e+00,  5.22322097e-01, -7.41155780e-01,\n",
       "       -1.13265991e+00, -1.50962755e-02, -1.37992083e-01, -1.13989713e-01,\n",
       "        2.52539766e-01,  1.82477818e-01,  1.84730314e+00, -4.60684970e-01,\n",
       "        1.39655638e-01, -5.71881127e-01,  2.89825256e-01, -5.41722614e-01,\n",
       "        1.22683983e+00,  1.11183471e+00,  6.69905571e-01,  2.70804246e+00,\n",
       "       -1.66519764e-01,  1.14477164e-01, -4.77090909e-01, -4.48885232e-01,\n",
       "        1.90824904e-01, -9.26880520e-01,  8.61611151e-01, -1.30201128e+00])"
      ]
     },
     "execution_count": 109,
     "metadata": {},
     "output_type": "execute_result"
    }
   ],
   "source": [
    "samples = np.random.normal(mean,std,100)\n",
    "samples"
   ]
  },
  {
   "cell_type": "code",
   "execution_count": 119,
   "id": "ea24b135-0caa-4c0a-86f9-eff1ecdccf38",
   "metadata": {},
   "outputs": [
    {
     "name": "stdout",
     "output_type": "stream",
     "text": [
      "[0.59774284 0.24842297 0.8606449  0.41759938 0.96527286 0.85788722\n",
      " 0.75617688 0.9871424  0.0788589  0.81907253 0.37469503 0.76517226\n",
      " 0.64145723 0.48060325 0.73919532 0.04529434 0.90268414 0.04431618\n",
      " 0.41375678 0.34201553 0.1361378  0.48147066 0.54896295 0.14258067\n",
      " 0.13638917 0.9201694  0.76523014 0.2402817  0.74271964 0.62307544\n",
      " 0.97998245 0.80798091 0.18174204 0.20594799 0.65684169 0.49106874\n",
      " 0.17010273 0.79653817 0.63269209 0.02767517 0.04504981 0.36731832\n",
      " 0.20725001 0.99366428 0.60334041 0.71876482 0.22998963 0.89252758\n",
      " 0.33260895 0.75994444 0.53707237 0.71031007 0.57656313 0.43625662\n",
      " 0.04170169 0.58484889 0.74032551 0.538397   0.1282055  0.62736503\n",
      " 0.62967836 0.25444037 0.8846886  0.89345661 0.27315084 0.1831952\n",
      " 0.10705979 0.59649167 0.52284964 0.55622441 0.59491478 0.50135264\n",
      " 0.03707217 0.67240234 0.59707685 0.54613138 0.6025598  0.50633215\n",
      " 0.74985361 0.38052491 0.42666999 0.90285399 0.0338214  0.12129001\n",
      " 0.17171383 0.68714166 0.6176022  0.70504333 0.39791014 0.06961399\n",
      " 0.07942022 0.51064117 0.713846   0.35466124 0.26467277 0.37518995\n",
      " 0.73237095 0.4689411  0.55723207 0.93870687]\n"
     ]
    },
    {
     "data": {
      "image/png": "[encoded data removed]",
      "text/plain": [
       "<Figure size 640x480 with 1 Axes>"
      ]
     },
     "metadata": {},
     "output_type": "display_data"
    }
   ],
   "source": [
    "samples1 = np.random.rand(100)\n",
    "print(samples1)\n",
    "plt.hist(samples1,bins =6)\n",
    "plt.title(\"Normal Distribution\")\n",
    "plt.show()"
   ]
  },
  {
   "cell_type": "code",
   "execution_count": null,
   "id": "4d39991d-638e-4cd9-bbed-86208415eafa",
   "metadata": {},
   "outputs": [],
   "source": []
  },
  {
   "cell_type": "code",
   "execution_count": 128,
   "id": "169b907b-c370-4077-b0b9-9219d1c7042b",
   "metadata": {},
   "outputs": [
    {
     "name": "stdout",
     "output_type": "stream",
     "text": [
      "[-1.5491933384829668, -1.161895003862225, -0.7745966692414834, -0.3872983346207417, 0.0, 0.3872983346207417, 0.7745966692414834, 1.161895003862225, 1.5491933384829668]\n",
      "\n",
      "[0.0, 0.125, 0.25, 0.375, 0.5, 0.625, 0.75, 0.875, 1.0]\n"
     ]
    }
   ],
   "source": [
    "data = [1, 2, 3, 4, 5, 6, 7, 8, 9]\n",
    "standardized = [(x - np.mean(data))/(np.std(data)) for x in data]\n",
    "normalized = [(x - min(data))/(max(data) -min(data)) for x in data]\n",
    "print(standardized)\n",
    "print()\n",
    "print(normalized)\n",
    "                "
   ]
  },
  {
   "cell_type": "code",
   "execution_count": null,
   "id": "691783fd-4b84-455f-915f-94f07de46c37",
   "metadata": {},
   "outputs": [],
   "source": []
  },
  {
   "cell_type": "code",
   "execution_count": 131,
   "id": "8b8a255b-0e11-4072-9f63-8bafad938997",
   "metadata": {},
   "outputs": [
    {
     "data": {
      "image/png": "[encoded data removed]",
      "text/plain": [
       "<Figure size 640x480 with 1 Axes>"
      ]
     },
     "metadata": {},
     "output_type": "display_data"
    }
   ],
   "source": [
    "from scipy.stats import norm\n",
    "\n",
    "data = np.random.normal(-3,3,100)\n",
    "plt.hist(data,bins = 10,density =True)\n",
    "plt.show()"
   ]
  },
  {
   "cell_type": "code",
   "execution_count": 132,
   "id": "06b9eb28-95af-4242-aafd-57fdad7b8a80",
   "metadata": {},
   "outputs": [
    {
     "data": {
      "image/png": "[encoded data removed]",
      "text/plain": [
       "<Figure size 640x480 with 1 Axes>"
      ]
     },
     "metadata": {},
     "output_type": "display_data"
    }
   ],
   "source": [
    "x = np.linspace(-3,3,100)\n",
    "PDF = norm.pdf(x)\n",
    "plt.plot(x,PDF)\n",
    "plt.show()"
   ]
  },
  {
   "cell_type": "markdown",
   "id": "69e5d6ad-8b6e-4b35-aef3-a0a6cdae417c",
   "metadata": {},
   "source": [
    "# 11"
   ]
  },
  {
   "cell_type": "code",
   "execution_count": 136,
   "id": "97fefd25-8767-4807-80fb-1e8726da0194",
   "metadata": {},
   "outputs": [
    {
     "data": {
      "image/png": "[encoded data removed]",
      "text/plain": [
       "<Figure size 640x480 with 1 Axes>"
      ]
     },
     "metadata": {},
     "output_type": "display_data"
    }
   ],
   "source": [
    "mean = [np.mean(np.random.choice(data,5)) for _ in range(1000)]\n",
    "plt.hist(mean,bins = 20)\n",
    "plt.title(\"Central Limit Theorem\")\n",
    "plt.show()"
   ]
  },
  {
   "cell_type": "code",
   "execution_count": 137,
   "id": "cf7c26bc-3983-4bea-9476-45913b1b5c7d",
   "metadata": {},
   "outputs": [
    {
     "data": {
      "text/plain": [
       "0.75"
      ]
     },
     "execution_count": 137,
     "metadata": {},
     "output_type": "execute_result"
    }
   ],
   "source": [
    "1- 1/(2**2)"
   ]
  },
  {
   "cell_type": "code",
   "execution_count": 138,
   "id": "b94e7334-6cf6-4e5d-8b55-390c673b3d15",
   "metadata": {},
   "outputs": [
    {
     "data": {
      "text/plain": [
       "array([[ 2.5,  5. ],\n",
       "       [ 5. , 10. ]])"
      ]
     },
     "execution_count": 138,
     "metadata": {},
     "output_type": "execute_result"
    }
   ],
   "source": [
    "x = [1, 2, 3, 4, 5]\n",
    "y = [2, 4, 6, 8, 10]\n",
    "cov = np.cov(x,y)\n",
    "cov"
   ]
  },
  {
   "cell_type": "code",
   "execution_count": 143,
   "id": "bb8841d8-4b26-447b-8b88-b6468c1e7819",
   "metadata": {},
   "outputs": [
    {
     "data": {
      "text/plain": [
       "(0.24253562503633305, 0.6942488516293602)"
      ]
     },
     "execution_count": 143,
     "metadata": {},
     "output_type": "execute_result"
    }
   ],
   "source": [
    "from scipy.stats import pearsonr\n",
    "\n",
    "x = [1, 2, 3, 4, 5]\n",
    "y = [2, 4, 6, 8, 2]\n",
    "\n",
    "corr,_ = pearsonr(x,y)\n",
    "corr,_"
   ]
  },
  {
   "cell_type": "code",
   "execution_count": 144,
   "id": "1f638840-0ddb-4ee1-88fe-b4cf61715855",
   "metadata": {},
   "outputs": [
    {
     "data": {
      "text/plain": [
       "(0.20519567041703082, 0.7405819415910722)"
      ]
     },
     "execution_count": 144,
     "metadata": {},
     "output_type": "execute_result"
    }
   ],
   "source": [
    "from scipy.stats import spearmanr\n",
    "\n",
    "corr1,_ = spearmanr(x,y)\n",
    "corr1,_"
   ]
  },
  {
   "cell_type": "code",
   "execution_count": 147,
   "id": "64b57de2-2369-4eef-9411-fd639367688a",
   "metadata": {},
   "outputs": [
    {
     "data": {
      "image/png": "[encoded data removed]",
      "text/plain": [
       "<Figure size 640x480 with 1 Axes>"
      ]
     },
     "metadata": {},
     "output_type": "display_data"
    }
   ],
   "source": [
    "data = np.random.normal(0,1,100)\n",
    "stats.probplot(data,dist = 'norm',plot = plt)\n",
    "plt.title('QQ Plot')\n",
    "plt.show()"
   ]
  },
  {
   "cell_type": "code",
   "execution_count": null,
   "id": "a7a55d5b-45bc-490d-9fbf-0ea61593a720",
   "metadata": {},
   "outputs": [],
   "source": []
  },
  {
   "cell_type": "code",
   "execution_count": 152,
   "id": "e68521d3-4585-4268-8bb4-bbbcd06a0c1c",
   "metadata": {},
   "outputs": [
    {
     "name": "stdout",
     "output_type": "stream",
     "text": [
      "[0 0 0 0 0 1 0 1 0 1]\n",
      "[4 6 8 4 5 5 6 1 8 4]\n"
     ]
    }
   ],
   "source": [
    "from scipy.stats import bernoulli, binom\n",
    "\n",
    "# bernouli\n",
    "p = 0.5\n",
    "bernoulli_sample = bernoulli.rvs(p,size =10)  # rvs- random varaites\n",
    "print(bernoulli_sample)\n",
    "\n",
    "# binomial\n",
    "\n",
    "n,p = 10,0.5\n",
    "binomial_sample = binom.rvs(n,p,size =10)\n",
    "print(binomial_sample)"
   ]
  },
  {
   "cell_type": "code",
   "execution_count": null,
   "id": "69fdf5f7-4fec-4170-9e4c-8af4f94d4605",
   "metadata": {},
   "outputs": [],
   "source": []
  },
  {
   "cell_type": "code",
   "execution_count": 153,
   "id": "6792ad74-ddec-4b50-bfba-f4c0786f1763",
   "metadata": {},
   "outputs": [
    {
     "data": {
      "image/png": "[encoded data removed]",
      "text/plain": [
       "<Figure size 640x480 with 1 Axes>"
      ]
     },
     "metadata": {},
     "output_type": "display_data"
    }
   ],
   "source": [
    "log_normal_data = np.random.lognormal(mean=0, sigma=1, size=1000)\n",
    "plt.hist(log_normal_data, bins=30, density=True)\n",
    "plt.title(\"Log-Normal Distribution\")\n",
    "plt.show()\n"
   ]
  },
  {
   "cell_type": "code",
   "execution_count": 156,
   "id": "7ae4cbdd-8b54-43cf-b392-9aa70a9a7317",
   "metadata": {},
   "outputs": [
    {
     "data": {
      "image/png": "[encoded data removed]",
      "text/plain": [
       "<Figure size 640x480 with 1 Axes>"
      ]
     },
     "metadata": {},
     "output_type": "display_data"
    }
   ],
   "source": [
    "from numpy.random import power\n",
    "\n",
    "data = power(a = 5,size =1000)\n",
    "plt.hist(data,bins =30,density =True)\n",
    "plt.title(\"Power_Law Distribution\")\n",
    "plt.show()"
   ]
  },
  {
   "cell_type": "code",
   "execution_count": null,
   "id": "f3fb1515-3c31-471a-bb5e-46c011841623",
   "metadata": {},
   "outputs": [],
   "source": []
  },
  {
   "cell_type": "code",
   "execution_count": 169,
   "id": "f1857849-f139-465e-ad6c-835d11c6b45f",
   "metadata": {},
   "outputs": [
    {
     "name": "stdout",
     "output_type": "stream",
     "text": [
      "0.3603472750294656\n"
     ]
    },
    {
     "data": {
      "image/png": "[encoded data removed]",
      "text/plain": [
       "<Figure size 640x480 with 1 Axes>"
      ]
     },
     "metadata": {},
     "output_type": "display_data"
    }
   ],
   "source": [
    "from scipy.stats import boxcox\n",
    "\n",
    "data = np.random.exponential(scale =1, size =100)\n",
    "transformed_data,_=boxcox(data)\n",
    "print(_)\n",
    "plt.hist(transformed_data,bins =30)\n",
    "plt.title(\"boxcox\")\n",
    "plt.show()"
   ]
  },
  {
   "cell_type": "code",
   "execution_count": 170,
   "id": "afc570b1-6013-43bb-97dc-aaa724024c49",
   "metadata": {},
   "outputs": [
    {
     "data": {
      "text/plain": [
       "(array([14.,  9., 10., 10.,  6.,  9.,  4.,  3.,  6.,  4.,  5.,  2.,  2.,\n",
       "         4.,  4.,  0.,  2.,  1.,  0.,  1.,  1.,  1.,  0.,  0.,  0.,  1.,\n",
       "         0.,  0.,  0.,  1.]),\n",
       " array([1.75391599e-03, 1.56418935e-01, 3.11083954e-01, 4.65748972e-01,\n",
       "        6.20413991e-01, 7.75079010e-01, 9.29744029e-01, 1.08440905e+00,\n",
       "        1.23907407e+00, 1.39373909e+00, 1.54840410e+00, 1.70306912e+00,\n",
       "        1.85773414e+00, 2.01239916e+00, 2.16706418e+00, 2.32172920e+00,\n",
       "        2.47639422e+00, 2.63105924e+00, 2.78572425e+00, 2.94038927e+00,\n",
       "        3.09505429e+00, 3.24971931e+00, 3.40438433e+00, 3.55904935e+00,\n",
       "        3.71371437e+00, 3.86837939e+00, 4.02304441e+00, 4.17770942e+00,\n",
       "        4.33237444e+00, 4.48703946e+00, 4.64170448e+00]),\n",
       " <BarContainer object of 30 artists>)"
      ]
     },
     "execution_count": 170,
     "metadata": {},
     "output_type": "execute_result"
    },
    {
     "data": {
      "image/png": "[encoded data removed]",
      "text/plain": [
       "<Figure size 640x480 with 1 Axes>"
      ]
     },
     "metadata": {},
     "output_type": "display_data"
    }
   ],
   "source": [
    "plt.hist(data,bins =30)"
   ]
  },
  {
   "cell_type": "code",
   "execution_count": null,
   "id": "ca947bc4-b798-4532-b03d-cf6806c28741",
   "metadata": {},
   "outputs": [],
   "source": []
  },
  {
   "cell_type": "code",
   "execution_count": 171,
   "id": "58890bf0-9200-43dc-bc39-5724872f4437",
   "metadata": {},
   "outputs": [
    {
     "name": "stdout",
     "output_type": "stream",
     "text": [
      "[-0.08283325  0.77925296  0.71175591 -4.0893921   0.04173744 -0.28241438\n",
      " -2.90668396 -0.09373423  0.21662129 -0.6684348  -1.20342891 -1.34768345\n",
      "  0.74481539 -0.31725912  1.16963446  0.71544757  0.30501038 -2.31856694\n",
      "  0.58799428 -0.15323153  0.07248987 -1.16990697  0.78442192  0.73173382\n",
      " -1.77623782 -0.77311378  0.20550149  0.46410763 -0.67944054 -0.16302476\n",
      " -0.83924707 -4.40959483 -0.76516011 -1.05611901  0.82497406  0.4747712\n",
      "  1.11253627  0.337364    0.27812381  0.52938875  0.07226527 -2.46569571\n",
      " -2.26314241 -1.94245008  1.37762318  0.5511931  -1.53182255  1.53508164\n",
      " -0.38581278  0.96046594  0.68625606 -1.06042658 -0.73400267 -0.1304679\n",
      " -3.65301729 -1.22097763  0.6437755  -0.82449552  0.11345178  0.78143603\n",
      " -0.69785735 -2.59999339 -1.91781009  0.08509082 -2.40821173 -1.07297674\n",
      "  1.21665776  0.37980901 -0.73327274  0.36783295 -0.44322176 -0.08612513\n",
      " -0.57708165  0.48736062  0.52813245 -4.38165131 -1.03043697  0.26035388\n",
      " -0.44920754  0.07558538 -0.48938437 -0.47509183  0.99716698  0.29445125\n",
      " -0.97926138 -0.47868197 -0.09770264 -1.48879387  0.40616532 -6.34590428\n",
      " -1.35395025 -3.12944597  0.26078516 -0.57729034 -0.23779312 -0.65131263\n",
      " -1.0516815   0.91395843 -0.14978637 -1.36567143]\n",
      "[0.95942933 1.47642922 1.42743333 0.12941952 1.02108799 0.86830939\n",
      " 0.23378767 0.95421419 1.11439387 0.71589813 0.54787153 0.50974651\n",
      " 1.45122452 0.8533124  1.79466295 1.43007056 1.16474851 0.31371088\n",
      " 1.34178007 0.92624568 1.03690979 0.55713178 1.48024995 1.44176335\n",
      " 0.41142896 0.67939207 1.10821515 1.2611876  0.71196945 0.9217213\n",
      " 0.65729422 0.11027286 0.68209928 0.58974826 1.51056995 1.26792994\n",
      " 1.7441514  1.18374365 1.14919524 1.30303267 1.03679335 0.29146136\n",
      " 0.3225261  0.37861893 1.99134759 1.31731629 0.46491008 2.15446153\n",
      " 0.82455916 1.61645094 1.40934919 0.58847944 0.69280872 0.93684826\n",
      " 0.16097461 0.54308534 1.37972989 0.6621602  1.05836566 1.47804167\n",
      " 0.70544344 0.27253269 0.38331237 1.04346344 0.29996008 0.58479825\n",
      " 1.83735838 1.20913413 0.69306162 1.20191543 0.80122708 0.95785146\n",
      " 0.74935621 1.27593636 1.30221443 0.11182438 0.59737006 1.13902991\n",
      " 0.79883268 1.03851592 0.7829455  0.78856069 1.64638749 1.15861535\n",
      " 0.61285268 0.78714643 0.95232271 0.47502068 1.22517374 0.04187978\n",
      " 0.50815176 0.20914594 1.13927555 0.74927802 0.88789964 0.7220533\n",
      " 0.59105822 1.57929606 0.92784259 0.50518241]\n"
     ]
    }
   ],
   "source": [
    "log_transform = np.log(data)\n",
    "sqrt_transform = np.sqrt(data)\n",
    "print(log_transform)\n",
    "print(sqrt_transform)"
   ]
  },
  {
   "cell_type": "code",
   "execution_count": null,
   "id": "3e3443f3-20a9-437c-9946-c6e5bd228593",
   "metadata": {},
   "outputs": [],
   "source": []
  },
  {
   "cell_type": "code",
   "execution_count": 176,
   "id": "2a6722b8-f76b-47c8-82b1-c64aa3ec7c11",
   "metadata": {},
   "outputs": [
    {
     "name": "stdout",
     "output_type": "stream",
     "text": [
      "95% Confidence Interval: (46.910531479523506, 51.4602107243987)\n",
      "99% Confidence Interval: (46.19572506429478, 52.17501713962743)\n"
     ]
    }
   ],
   "source": [
    "import scipy.stats as stats\n",
    "\n",
    "data = np.random.normal(50, 10, 100)\n",
    "mean, std = np.mean(data), np.std(data)\n",
    "confidence = stats.norm.interval(0.95, loc=mean, scale=std/np.sqrt(len(data)))\n",
    "confidence1 = stats.norm.interval(0.99, loc=mean, scale=std/np.sqrt(len(data)))\n",
    "print(f\"95% Confidence Interval: {confidence}\")\n",
    "print(f\"99% Confidence Interval: {confidence1}\")"
   ]
  },
  {
   "cell_type": "code",
   "execution_count": null,
   "id": "766f1a3e-ad24-4cb6-99b3-a7b9dd8f9915",
   "metadata": {},
   "outputs": [],
   "source": []
  },
  {
   "cell_type": "code",
   "execution_count": 178,
   "id": "bccdf16d-d76b-45bb-9c73-3d50f3a2845d",
   "metadata": {},
   "outputs": [
    {
     "data": {
      "text/plain": [
       "(-0.48819886493902376, 0.6290801191363643)"
      ]
     },
     "execution_count": 178,
     "metadata": {},
     "output_type": "execute_result"
    }
   ],
   "source": [
    "from scipy.stats import ttest_1samp\n",
    "\n",
    "data = np.random.normal(5,1,30)\n",
    "t_stat,p_val = ttest_1samp(data,5)\n",
    "t_stat,p_val"
   ]
  },
  {
   "cell_type": "code",
   "execution_count": null,
   "id": "2d58c503-4b88-4fcd-948d-3d82d10c7e17",
   "metadata": {},
   "outputs": [],
   "source": []
  },
  {
   "cell_type": "code",
   "execution_count": 184,
   "id": "84d0d29f-3513-4020-b179-e1f45e9b3e41",
   "metadata": {},
   "outputs": [
    {
     "data": {
      "text/plain": [
       "(3.783260417672468, 0.0011672291960560302)"
      ]
     },
     "execution_count": 184,
     "metadata": {},
     "output_type": "execute_result"
    }
   ],
   "source": [
    "# One_sample T-Test\n",
    "\n",
    "pop_mean = 10\n",
    "x = np.random.normal(11,1,21)\n",
    "t_stat,p_val = stats.ttest_1samp(x,popmean = pop_mean)\n",
    "t_stat,p_val"
   ]
  },
  {
   "cell_type": "code",
   "execution_count": 185,
   "id": "645d7c39-1a2d-4442-8384-59d6c73a2a34",
   "metadata": {},
   "outputs": [
    {
     "data": {
      "text/plain": [
       "(4.094098846074457, 0.00017841959290050164)"
      ]
     },
     "execution_count": 185,
     "metadata": {},
     "output_type": "execute_result"
    }
   ],
   "source": [
    "# Two_sample T-Test\n",
    "\n",
    "x = np.random.normal(10.5,1,21)\n",
    "y = np.random.normal(9.5,1,25)\n",
    "\n",
    "t_stat,p_val = stats.ttest_ind(x,y)\n",
    "t_stat,p_val"
   ]
  },
  {
   "cell_type": "code",
   "execution_count": 187,
   "id": "260aab56-fb2e-466f-8244-dc19737fd365",
   "metadata": {},
   "outputs": [
    {
     "data": {
      "text/plain": [
       "(-0.5089319284207687, 0.6146504782539148)"
      ]
     },
     "execution_count": 187,
     "metadata": {},
     "output_type": "execute_result"
    }
   ],
   "source": [
    "# Paired sample T-test\n",
    "\n",
    "before = np.random.randn(30)+5\n",
    "after = before + np.random.randn(30)*0.5\n",
    "\n",
    "t_stat,p_val = stats.ttest_rel(before,after)\n",
    "t_stat,p_val"
   ]
  },
  {
   "cell_type": "code",
   "execution_count": 188,
   "id": "77681b58-8986-418c-9b93-13b0b6e8550c",
   "metadata": {},
   "outputs": [
    {
     "name": "stdout",
     "output_type": "stream",
     "text": [
      "One-Sample Z-Test\n",
      "Z-Score: 2.7386127875258306\n",
      "P-Value: 0.0030849496602720627\n"
     ]
    }
   ],
   "source": [
    "import numpy as np\n",
    "from scipy import stats\n",
    "\n",
    "# Given information\n",
    "population_mean = 10\n",
    "sample_size = 30\n",
    "sample_mean = 11\n",
    "population_std = 2\n",
    "\n",
    "# Calculate the z-score\n",
    "z_score = (sample_mean - population_mean) / (population_std / np.sqrt(sample_size))\n",
    "\n",
    "# Calculate the p-value for a right-tailed test\n",
    "p_value = 1 - stats.norm.cdf(z_score)\n",
    "\n",
    "print(\"One-Sample Z-Test\")\n",
    "print(\"Z-Score:\", z_score)\n",
    "print(\"P-Value:\", p_value)\n"
   ]
  },
  {
   "cell_type": "code",
   "execution_count": null,
   "id": "9c9c7f5b-706b-475f-897e-dccbc447a482",
   "metadata": {},
   "outputs": [],
   "source": []
  },
  {
   "cell_type": "code",
   "execution_count": null,
   "id": "fc3f80eb-59fc-4b2c-bbcb-c896b49d008e",
   "metadata": {},
   "outputs": [],
   "source": []
  },
  {
   "cell_type": "code",
   "execution_count": null,
   "id": "9fb8b66f-ce90-4e67-87fd-f44018e13dfc",
   "metadata": {},
   "outputs": [],
   "source": []
  },
  {
   "cell_type": "code",
   "execution_count": null,
   "id": "53b1f8b8-839c-4a62-bccc-df16f552928b",
   "metadata": {},
   "outputs": [],
   "source": []
  },
  {
   "cell_type": "code",
   "execution_count": null,
   "id": "f3fcb870-6a2e-4a6c-9fd9-b83354c67fe7",
   "metadata": {},
   "outputs": [],
   "source": []
  },
  {
   "cell_type": "code",
   "execution_count": null,
   "id": "ab8d6948-8170-4b4c-83d8-5b2c27b714b8",
   "metadata": {},
   "outputs": [],
   "source": []
  },
  {
   "cell_type": "code",
   "execution_count": null,
   "id": "706c1fef-d231-409e-9b7b-460f99f485af",
   "metadata": {},
   "outputs": [],
   "source": []
  }
 ],
 "metadata": {
  "kernelspec": {
   "display_name": "Python 3 (ipykernel)",
   "language": "python",
   "name": "python3"
  },
  "language_info": {
   "codemirror_mode": {
    "name": "ipython",
    "version": 3
   },
   "file_extension": ".py",
   "mimetype": "text/x-python",
   "name": "python",
   "nbconvert_exporter": "python",
   "pygments_lexer": "ipython3",
   "version": "3.9.20"
  }
 },
 "nbformat": 4,
 "nbformat_minor": 5
}
