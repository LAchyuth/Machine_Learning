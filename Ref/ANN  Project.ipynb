{
 "cells": [
  {
   "cell_type": "code",
   "execution_count": 2,
   "id": "ff6dbf42-8db7-4f19-9690-67f2a2a3fa2f",
   "metadata": {},
   "outputs": [],
   "source": [
    "import numpy as np\n",
    "import pandas as pd\n",
    "import matplotlib.pyplot as plt\n",
    "import seaborn as sns\n",
    "import warnings\n",
    "warnings.filterwarnings('ignore')\n",
    "\n",
    "from sklearn.datasets import make_classification\n",
    "from sklearn.preprocessing import OneHotEncoder,StandardScaler\n",
    "from sklearn.model_selection import train_test_split\n",
    "\n",
    "import tensorflow as tf\n",
    "from tensorflow.keras import Sequential\n",
    "from tensorflow.keras.layers import Dense,Dropout,BatchNormalization,Activation\n",
    "from tensorflow.keras.optimizers import Adam,SGD,RMSprop\n",
    "from tensorflow.keras.callbacks import EarlyStopping\n"
   ]
  },
  {
   "cell_type": "code",
   "execution_count": 3,
   "id": "9e19a961-5980-4ef5-aa67-57796ba6c15e",
   "metadata": {},
   "outputs": [],
   "source": [
    "x,y = make_classification(\n",
    "    n_samples =1000,n_features = 20,n_informative =15,\n",
    "    n_redundant = 5,n_classes =4,random_state =42)\n"
   ]
  },
  {
   "cell_type": "code",
   "execution_count": 7,
   "id": "1c69e507-ea96-42bf-b92f-f1f8dc5a9d25",
   "metadata": {},
   "outputs": [],
   "source": [
    "x_train, x_test, y_train, y_test = train_test_split(x, y, test_size=0.3, random_state=42)"
   ]
  },
  {
   "cell_type": "code",
   "execution_count": 8,
   "id": "d3ce8f0e-ce45-4cdd-a07a-de9e1fa2d2ae",
   "metadata": {},
   "outputs": [],
   "source": [
    "# Scale the features using StandardScaler\n",
    "\n",
    "scaler = StandardScaler()\n",
    "x_train = scaler.fit_transform(x_train)\n",
    "x_test = scaler.fit_transform(x_test)"
   ]
  },
  {
   "cell_type": "code",
   "execution_count": 9,
   "id": "65c79cd0-81ea-4fab-bcdd-265d2d2a9f95",
   "metadata": {},
   "outputs": [],
   "source": [
    "# One-hot encode the target variable(because of multi class)\n",
    "\n",
    "encoder = OneHotEncoder(sparse = False)\n",
    "y_train = encoder.fit_transform(y_train.reshape(-1,1))\n",
    "y_test = encoder.fit_transform(y_test.reshape(-1,1))\n",
    "\n",
    "# if you have an array with 12 elements and you use reshape(-1, 1), NumPy will infer that there should be 12 rows and 1 column.\n",
    "# The -1 in the reshape function acts as a placeholder for an unknown dimension."
   ]
  },
  {
   "cell_type": "code",
   "execution_count": 11,
   "id": "239cb66b-5792-46cb-8831-7fd8155d1e1b",
   "metadata": {},
   "outputs": [],
   "source": [
    "model = Sequential()\n",
    "\n",
    "# Input Layer\n",
    "model.add(Dense(128,input_shape =(x_train.shape[1],)))\n",
    "model.add(BatchNormalization())\n",
    "model.add(Activation('relu'))\n",
    "model.add(Dropout(0.3))\n",
    "\n",
    "# Second Hidden Layer\n",
    "model.add(Dense(64))\n",
    "model.add(BatchNormalization())\n",
    "model.add(Activation('tanh'))\n",
    "model.add(Dropout(0.3))\n",
    "\n",
    "#Third Hidden Layer\n",
    "model.add(Dense(32))\n",
    "model.add(BatchNormalization())\n",
    "model.add(Activation('relu'))\n",
    "model.add(Dropout(0.2))\n",
    "\n",
    "# Output Layer\n",
    "model.add(Dense(y_train.shape[1],activation = 'softmax')) \n",
    "\n",
    "optimizer = Adam(learning_rate = 0.001)\n",
    "# optimizer = SGD(learning_rate = 0.01,momentum =0.9)\n",
    "# optimizer = RMSprop(learning_rate = 0.001)\n",
    "\n",
    "model.compile(optimizer = optimizer,loss = 'categorical_crossentropy',metrics = ['accuracy'])\n"
   ]
  },
  {
   "cell_type": "code",
   "execution_count": 13,
   "id": "05e02ca7-adfe-4d5f-bb62-75f85855adbe",
   "metadata": {},
   "outputs": [],
   "source": [
    "early_stopping = EarlyStopping(\n",
    "    monitor = 'val_loss',\n",
    "    patience = 10,   # stop after 10 epochs of no improvement\n",
    "    restore_best_weights = True)   #Restore weights from the epoch with the best validation loss"
   ]
  },
  {
   "cell_type": "code",
   "execution_count": 14,
   "id": "2211db7f-42b9-46ab-9f7d-d7a56c5f5c67",
   "metadata": {},
   "outputs": [
    {
     "name": "stdout",
     "output_type": "stream",
     "text": [
      "Epoch 1/100\n",
      "22/22 [==============================] - 3s 20ms/step - loss: 1.5428 - accuracy: 0.2743 - val_loss: 1.2341 - val_accuracy: 0.4933\n",
      "Epoch 2/100\n",
      "22/22 [==============================] - 0s 6ms/step - loss: 1.2246 - accuracy: 0.4400 - val_loss: 1.1223 - val_accuracy: 0.5500\n",
      "Epoch 3/100\n",
      "22/22 [==============================] - 0s 6ms/step - loss: 1.1258 - accuracy: 0.5114 - val_loss: 1.0476 - val_accuracy: 0.6033\n",
      "Epoch 4/100\n",
      "22/22 [==============================] - 0s 6ms/step - loss: 1.0282 - accuracy: 0.5629 - val_loss: 0.9949 - val_accuracy: 0.6333\n",
      "Epoch 5/100\n",
      "22/22 [==============================] - 0s 6ms/step - loss: 0.9797 - accuracy: 0.5943 - val_loss: 0.9504 - val_accuracy: 0.6367\n",
      "Epoch 6/100\n",
      "22/22 [==============================] - 0s 7ms/step - loss: 0.9496 - accuracy: 0.6000 - val_loss: 0.9133 - val_accuracy: 0.6367\n",
      "Epoch 7/100\n",
      "22/22 [==============================] - 0s 7ms/step - loss: 0.8321 - accuracy: 0.6629 - val_loss: 0.8896 - val_accuracy: 0.6533\n",
      "Epoch 8/100\n",
      "22/22 [==============================] - 0s 6ms/step - loss: 0.8252 - accuracy: 0.6714 - val_loss: 0.8608 - val_accuracy: 0.6667\n",
      "Epoch 9/100\n",
      "22/22 [==============================] - 0s 7ms/step - loss: 0.8045 - accuracy: 0.6786 - val_loss: 0.8299 - val_accuracy: 0.6933\n",
      "Epoch 10/100\n",
      "22/22 [==============================] - 0s 6ms/step - loss: 0.7807 - accuracy: 0.6800 - val_loss: 0.8060 - val_accuracy: 0.6900\n",
      "Epoch 11/100\n",
      "22/22 [==============================] - 0s 6ms/step - loss: 0.7675 - accuracy: 0.6957 - val_loss: 0.7909 - val_accuracy: 0.7000\n",
      "Epoch 12/100\n",
      "22/22 [==============================] - 0s 6ms/step - loss: 0.7200 - accuracy: 0.7300 - val_loss: 0.7865 - val_accuracy: 0.6800\n",
      "Epoch 13/100\n",
      "22/22 [==============================] - 0s 6ms/step - loss: 0.7669 - accuracy: 0.7043 - val_loss: 0.7828 - val_accuracy: 0.6900\n",
      "Epoch 14/100\n",
      "22/22 [==============================] - 0s 7ms/step - loss: 0.7404 - accuracy: 0.7171 - val_loss: 0.7743 - val_accuracy: 0.7000\n",
      "Epoch 15/100\n",
      "22/22 [==============================] - 0s 7ms/step - loss: 0.7199 - accuracy: 0.7086 - val_loss: 0.7675 - val_accuracy: 0.7133\n",
      "Epoch 16/100\n",
      "22/22 [==============================] - 0s 6ms/step - loss: 0.6846 - accuracy: 0.7371 - val_loss: 0.7505 - val_accuracy: 0.7033\n",
      "Epoch 17/100\n",
      "22/22 [==============================] - 0s 6ms/step - loss: 0.6642 - accuracy: 0.7586 - val_loss: 0.7360 - val_accuracy: 0.7033\n",
      "Epoch 18/100\n",
      "22/22 [==============================] - 0s 7ms/step - loss: 0.6476 - accuracy: 0.7443 - val_loss: 0.7261 - val_accuracy: 0.7000\n",
      "Epoch 19/100\n",
      "22/22 [==============================] - 0s 10ms/step - loss: 0.6763 - accuracy: 0.7186 - val_loss: 0.7110 - val_accuracy: 0.7133\n",
      "Epoch 20/100\n",
      "22/22 [==============================] - 0s 8ms/step - loss: 0.6328 - accuracy: 0.7743 - val_loss: 0.7040 - val_accuracy: 0.7133\n",
      "Epoch 21/100\n",
      "22/22 [==============================] - 0s 7ms/step - loss: 0.6211 - accuracy: 0.7729 - val_loss: 0.6946 - val_accuracy: 0.7200\n",
      "Epoch 22/100\n",
      "22/22 [==============================] - 0s 7ms/step - loss: 0.5802 - accuracy: 0.7929 - val_loss: 0.6927 - val_accuracy: 0.7100\n",
      "Epoch 23/100\n",
      "22/22 [==============================] - 0s 7ms/step - loss: 0.5889 - accuracy: 0.7786 - val_loss: 0.6877 - val_accuracy: 0.7200\n",
      "Epoch 24/100\n",
      "22/22 [==============================] - 0s 6ms/step - loss: 0.5760 - accuracy: 0.7743 - val_loss: 0.6802 - val_accuracy: 0.7233\n",
      "Epoch 25/100\n",
      "22/22 [==============================] - 0s 6ms/step - loss: 0.6142 - accuracy: 0.7629 - val_loss: 0.6865 - val_accuracy: 0.7167\n",
      "Epoch 26/100\n",
      "22/22 [==============================] - 0s 7ms/step - loss: 0.5908 - accuracy: 0.7700 - val_loss: 0.6684 - val_accuracy: 0.7333\n",
      "Epoch 27/100\n",
      "22/22 [==============================] - 0s 6ms/step - loss: 0.6063 - accuracy: 0.7757 - val_loss: 0.6544 - val_accuracy: 0.7300\n",
      "Epoch 28/100\n",
      "22/22 [==============================] - 0s 7ms/step - loss: 0.5598 - accuracy: 0.7900 - val_loss: 0.6564 - val_accuracy: 0.7367\n",
      "Epoch 29/100\n",
      "22/22 [==============================] - 0s 6ms/step - loss: 0.5804 - accuracy: 0.7586 - val_loss: 0.6572 - val_accuracy: 0.7367\n",
      "Epoch 30/100\n",
      "22/22 [==============================] - 0s 6ms/step - loss: 0.5032 - accuracy: 0.8029 - val_loss: 0.6351 - val_accuracy: 0.7567\n",
      "Epoch 31/100\n",
      "22/22 [==============================] - 0s 7ms/step - loss: 0.5025 - accuracy: 0.8086 - val_loss: 0.6352 - val_accuracy: 0.7667\n",
      "Epoch 32/100\n",
      "22/22 [==============================] - 0s 6ms/step - loss: 0.5194 - accuracy: 0.8014 - val_loss: 0.6451 - val_accuracy: 0.7633\n",
      "Epoch 33/100\n",
      "22/22 [==============================] - 0s 6ms/step - loss: 0.5187 - accuracy: 0.7986 - val_loss: 0.6467 - val_accuracy: 0.7500\n",
      "Epoch 34/100\n",
      "22/22 [==============================] - 0s 6ms/step - loss: 0.4900 - accuracy: 0.8071 - val_loss: 0.6235 - val_accuracy: 0.7500\n",
      "Epoch 35/100\n",
      "22/22 [==============================] - 0s 8ms/step - loss: 0.5332 - accuracy: 0.7900 - val_loss: 0.6239 - val_accuracy: 0.7433\n",
      "Epoch 36/100\n",
      "22/22 [==============================] - 0s 7ms/step - loss: 0.4482 - accuracy: 0.8314 - val_loss: 0.6241 - val_accuracy: 0.7533\n",
      "Epoch 37/100\n",
      "22/22 [==============================] - 0s 6ms/step - loss: 0.4970 - accuracy: 0.8129 - val_loss: 0.6294 - val_accuracy: 0.7600\n",
      "Epoch 38/100\n",
      "22/22 [==============================] - 0s 7ms/step - loss: 0.5146 - accuracy: 0.8100 - val_loss: 0.6206 - val_accuracy: 0.7567\n",
      "Epoch 39/100\n",
      "22/22 [==============================] - 0s 7ms/step - loss: 0.4672 - accuracy: 0.8157 - val_loss: 0.6174 - val_accuracy: 0.7600\n",
      "Epoch 40/100\n",
      "22/22 [==============================] - 0s 6ms/step - loss: 0.5571 - accuracy: 0.7886 - val_loss: 0.6088 - val_accuracy: 0.7700\n",
      "Epoch 41/100\n",
      "22/22 [==============================] - 0s 7ms/step - loss: 0.4547 - accuracy: 0.8271 - val_loss: 0.6117 - val_accuracy: 0.7833\n",
      "Epoch 42/100\n",
      "22/22 [==============================] - 0s 6ms/step - loss: 0.5222 - accuracy: 0.8029 - val_loss: 0.6150 - val_accuracy: 0.7600\n",
      "Epoch 43/100\n",
      "22/22 [==============================] - 0s 6ms/step - loss: 0.4587 - accuracy: 0.8429 - val_loss: 0.6058 - val_accuracy: 0.7800\n",
      "Epoch 44/100\n",
      "22/22 [==============================] - 0s 5ms/step - loss: 0.4885 - accuracy: 0.8043 - val_loss: 0.6087 - val_accuracy: 0.7900\n",
      "Epoch 45/100\n",
      "22/22 [==============================] - 0s 6ms/step - loss: 0.4140 - accuracy: 0.8529 - val_loss: 0.5983 - val_accuracy: 0.7800\n",
      "Epoch 46/100\n",
      "22/22 [==============================] - 0s 8ms/step - loss: 0.4341 - accuracy: 0.8357 - val_loss: 0.6134 - val_accuracy: 0.7733\n",
      "Epoch 47/100\n",
      "22/22 [==============================] - 0s 7ms/step - loss: 0.4336 - accuracy: 0.8329 - val_loss: 0.6077 - val_accuracy: 0.7967\n",
      "Epoch 48/100\n",
      "22/22 [==============================] - 0s 6ms/step - loss: 0.4158 - accuracy: 0.8429 - val_loss: 0.6080 - val_accuracy: 0.7867\n",
      "Epoch 49/100\n",
      "22/22 [==============================] - 0s 7ms/step - loss: 0.4246 - accuracy: 0.8386 - val_loss: 0.6005 - val_accuracy: 0.7867\n",
      "Epoch 50/100\n",
      "22/22 [==============================] - 0s 7ms/step - loss: 0.4095 - accuracy: 0.8457 - val_loss: 0.6013 - val_accuracy: 0.7800\n",
      "Epoch 51/100\n",
      "22/22 [==============================] - 0s 6ms/step - loss: 0.4172 - accuracy: 0.8329 - val_loss: 0.6035 - val_accuracy: 0.7867\n",
      "Epoch 52/100\n",
      "22/22 [==============================] - 0s 6ms/step - loss: 0.4876 - accuracy: 0.8086 - val_loss: 0.6123 - val_accuracy: 0.7833\n",
      "Epoch 53/100\n",
      "22/22 [==============================] - 0s 7ms/step - loss: 0.4020 - accuracy: 0.8543 - val_loss: 0.5909 - val_accuracy: 0.7900\n",
      "Epoch 54/100\n",
      "22/22 [==============================] - 0s 7ms/step - loss: 0.4423 - accuracy: 0.8543 - val_loss: 0.5869 - val_accuracy: 0.8067\n",
      "Epoch 55/100\n",
      "22/22 [==============================] - 0s 7ms/step - loss: 0.4118 - accuracy: 0.8514 - val_loss: 0.5848 - val_accuracy: 0.8100\n",
      "Epoch 56/100\n",
      "22/22 [==============================] - 0s 6ms/step - loss: 0.4080 - accuracy: 0.8429 - val_loss: 0.5811 - val_accuracy: 0.7900\n",
      "Epoch 57/100\n",
      "22/22 [==============================] - 0s 7ms/step - loss: 0.4576 - accuracy: 0.8057 - val_loss: 0.5812 - val_accuracy: 0.7900\n",
      "Epoch 58/100\n",
      "22/22 [==============================] - 0s 6ms/step - loss: 0.3935 - accuracy: 0.8400 - val_loss: 0.5818 - val_accuracy: 0.7900\n",
      "Epoch 59/100\n",
      "22/22 [==============================] - 0s 6ms/step - loss: 0.3672 - accuracy: 0.8600 - val_loss: 0.5848 - val_accuracy: 0.7967\n",
      "Epoch 60/100\n",
      "22/22 [==============================] - 0s 6ms/step - loss: 0.3861 - accuracy: 0.8357 - val_loss: 0.5996 - val_accuracy: 0.7900\n",
      "Epoch 61/100\n",
      "22/22 [==============================] - 0s 6ms/step - loss: 0.3908 - accuracy: 0.8414 - val_loss: 0.5979 - val_accuracy: 0.7933\n",
      "Epoch 62/100\n",
      "22/22 [==============================] - 0s 6ms/step - loss: 0.4098 - accuracy: 0.8314 - val_loss: 0.5962 - val_accuracy: 0.7933\n",
      "Epoch 63/100\n",
      "22/22 [==============================] - 0s 6ms/step - loss: 0.3782 - accuracy: 0.8600 - val_loss: 0.5953 - val_accuracy: 0.8067\n",
      "Epoch 64/100\n",
      "22/22 [==============================] - 0s 6ms/step - loss: 0.3686 - accuracy: 0.8514 - val_loss: 0.6000 - val_accuracy: 0.7967\n",
      "Epoch 65/100\n",
      "22/22 [==============================] - 0s 6ms/step - loss: 0.3600 - accuracy: 0.8700 - val_loss: 0.5960 - val_accuracy: 0.8067\n",
      "Epoch 66/100\n",
      "22/22 [==============================] - 0s 7ms/step - loss: 0.3525 - accuracy: 0.8643 - val_loss: 0.5943 - val_accuracy: 0.7900\n"
     ]
    }
   ],
   "source": [
    "# Train the model\n",
    "\n",
    "history = model.fit(x_train,y_train,validation_data = (x_test,y_test),epochs =100,\n",
    "                    batch_size = 32,callbacks = [early_stopping],verbose =1)"
   ]
  },
  {
   "cell_type": "code",
   "execution_count": null,
   "id": "739dd59d-0f50-4d4a-8cf3-ce014b58c7a2",
   "metadata": {},
   "outputs": [],
   "source": []
  },
  {
   "cell_type": "code",
   "execution_count": 15,
   "id": "a263abde-feb0-461f-b711-ec3788eb01a9",
   "metadata": {},
   "outputs": [
    {
     "name": "stdout",
     "output_type": "stream",
     "text": [
      "10/10 [==============================] - 0s 2ms/step - loss: 0.5811 - accuracy: 0.7900\n",
      "Test Loss:0.5811,Test Accuracy : 0.7900\n"
     ]
    }
   ],
   "source": [
    "# Evaluate the model\n",
    "\n",
    "test_loss,test_accuracy = model.evaluate(x_test,y_test)\n",
    "print(f\"Test Loss:{test_loss:.4f},Test Accuracy : {test_accuracy:.4f}\")\n"
   ]
  },
  {
   "cell_type": "code",
   "execution_count": null,
   "id": "73d49a39-d3ef-4eda-84e9-06e5b27b9cba",
   "metadata": {},
   "outputs": [],
   "source": []
  },
  {
   "cell_type": "code",
   "execution_count": 17,
   "id": "d2d8c9ae-6add-4046-940e-971383014a2a",
   "metadata": {},
   "outputs": [
    {
     "data": {
      "image/png": "[encoded data removed]",
      "text/plain": [
       "<Figure size 1200x500 with 2 Axes>"
      ]
     },
     "metadata": {},
     "output_type": "display_data"
    }
   ],
   "source": [
    "plt.figure(figsize=(12, 5))\n",
    "plt.subplot(1, 2, 1)\n",
    "plt.plot(history.history['accuracy'], label='Train Accuracy')\n",
    "plt.plot(history.history['val_accuracy'], label='Validation Accuracy')\n",
    "plt.title('Model Accuracy')\n",
    "plt.xlabel('Epochs')\n",
    "plt.ylabel('Accuracy')\n",
    "plt.legend()\n",
    "\n",
    "plt.subplot(1, 2, 2)\n",
    "plt.plot(history.history['loss'], label='Train Loss')\n",
    "plt.plot(history.history['val_loss'], label='Validation Loss')\n",
    "plt.title('Model Loss')\n",
    "plt.xlabel('Epochs')\n",
    "plt.ylabel('Loss')\n",
    "plt.legend()\n",
    "\n",
    "plt.show()\n"
   ]
  },
  {
   "cell_type": "code",
   "execution_count": null,
   "id": "488d3c12-dad5-4525-889e-4b0e3c4d1e77",
   "metadata": {},
   "outputs": [],
   "source": []
  },
  {
   "cell_type": "markdown",
   "id": "42208811-a5aa-4f1b-916d-cafbadb13c89",
   "metadata": {},
   "source": [
    "##  Predict New Samples"
   ]
  },
  {
   "cell_type": "code",
   "execution_count": 19,
   "id": "f35d924b-e748-4606-8f9f-4ef8ed6a7f3b",
   "metadata": {},
   "outputs": [
    {
     "name": "stdout",
     "output_type": "stream",
     "text": [
      "1/1 [==============================] - 0s 155ms/step\n",
      "Predicted Class: 1, True Class: 1\n"
     ]
    }
   ],
   "source": [
    "sample_index = 0\n",
    "sample_input = x_test[sample_index].reshape(1,-1)\n",
    "predicted_class = np.argmax(model.predict(sample_input))\n",
    "true_class = np.argmax(y_test[sample_index])\n",
    "\n",
    "print(f\"Predicted Class: {predicted_class}, True Class: {true_class}\")"
   ]
  },
  {
   "cell_type": "code",
   "execution_count": null,
   "id": "cf032542-21f2-4e37-be00-c8bf3ec49c54",
   "metadata": {},
   "outputs": [],
   "source": []
  },
  {
   "cell_type": "code",
   "execution_count": null,
   "id": "02b0c976-97de-47aa-b9e2-30c2fad5f555",
   "metadata": {},
   "outputs": [],
   "source": []
  },
  {
   "cell_type": "code",
   "execution_count": null,
   "id": "43a90b09-475e-4d2e-9e78-1408be2c8883",
   "metadata": {},
   "outputs": [],
   "source": []
  },
  {
   "cell_type": "code",
   "execution_count": null,
   "id": "8aa22eea-b9f0-4ec1-893d-a023e2ea6ef6",
   "metadata": {},
   "outputs": [],
   "source": []
  },
  {
   "cell_type": "code",
   "execution_count": null,
   "id": "2d8d4978-ebc3-4355-bdf7-5cfe049bad97",
   "metadata": {},
   "outputs": [],
   "source": []
  },
  {
   "cell_type": "code",
   "execution_count": null,
   "id": "f8ea7ab7-69ad-49c2-b258-5e30c137d51a",
   "metadata": {},
   "outputs": [],
   "source": []
  },
  {
   "cell_type": "code",
   "execution_count": null,
   "id": "9e0ffd0b-f7ca-4e84-b230-7dbc80d016f3",
   "metadata": {},
   "outputs": [],
   "source": []
  },
  {
   "cell_type": "code",
   "execution_count": null,
   "id": "c91843af-5896-48cb-b7fe-9918d3d54cde",
   "metadata": {},
   "outputs": [],
   "source": []
  },
  {
   "cell_type": "code",
   "execution_count": null,
   "id": "e19a2caf-7c4e-45b7-90ee-02be7052781a",
   "metadata": {},
   "outputs": [],
   "source": []
  },
  {
   "cell_type": "code",
   "execution_count": null,
   "id": "739a088a-c688-40a0-a22f-9c928f0a978a",
   "metadata": {},
   "outputs": [],
   "source": []
  },
  {
   "cell_type": "code",
   "execution_count": null,
   "id": "5c101faa-7487-45e2-874a-faac9fd48237",
   "metadata": {},
   "outputs": [],
   "source": []
  },
  {
   "cell_type": "code",
   "execution_count": null,
   "id": "37d3764a-b5af-4f5f-a0b8-88c44cf5b999",
   "metadata": {},
   "outputs": [],
   "source": []
  },
  {
   "cell_type": "code",
   "execution_count": null,
   "id": "ac286eb5-520b-446e-882c-07c9566ecb1b",
   "metadata": {},
   "outputs": [],
   "source": []
  },
  {
   "cell_type": "code",
   "execution_count": null,
   "id": "ba866851-d8a3-40cf-a310-345f31caa251",
   "metadata": {},
   "outputs": [],
   "source": []
  },
  {
   "cell_type": "code",
   "execution_count": null,
   "id": "baf21226-4531-47c6-9bc9-d866bde91aa6",
   "metadata": {},
   "outputs": [],
   "source": []
  },
  {
   "cell_type": "code",
   "execution_count": null,
   "id": "aeb93ffc-4429-429b-953f-66c3f70b1a7d",
   "metadata": {},
   "outputs": [],
   "source": []
  },
  {
   "cell_type": "code",
   "execution_count": null,
   "id": "3606a18e-16ee-4eb1-9a57-26275848fd70",
   "metadata": {},
   "outputs": [],
   "source": []
  },
  {
   "cell_type": "code",
   "execution_count": null,
   "id": "ef2f75c2-cd33-4278-8fc9-3cb93fbc5cf6",
   "metadata": {},
   "outputs": [],
   "source": []
  },
  {
   "cell_type": "code",
   "execution_count": null,
   "id": "4aa721b5-ae37-4083-8f93-fa544646d33a",
   "metadata": {},
   "outputs": [],
   "source": []
  },
  {
   "cell_type": "code",
   "execution_count": null,
   "id": "8497a133-c74b-4cd4-a99f-7b6be1c19b6d",
   "metadata": {},
   "outputs": [],
   "source": []
  },
  {
   "cell_type": "code",
   "execution_count": null,
   "id": "9113d3da-e632-4994-9e44-5d7ece78fb1a",
   "metadata": {},
   "outputs": [],
   "source": []
  },
  {
   "cell_type": "code",
   "execution_count": null,
   "id": "d6cd172b-dc8a-47cb-b35f-fd15154444fa",
   "metadata": {},
   "outputs": [],
   "source": []
  },
  {
   "cell_type": "code",
   "execution_count": null,
   "id": "8d7715c9-5355-4f6d-8122-ee5407b64992",
   "metadata": {},
   "outputs": [],
   "source": []
  },
  {
   "cell_type": "code",
   "execution_count": null,
   "id": "f2019c80-b1b9-4248-8e26-2fcc82c7b901",
   "metadata": {},
   "outputs": [],
   "source": []
  },
  {
   "cell_type": "code",
   "execution_count": null,
   "id": "5d41fe2b-d665-4847-a531-c149366cc60f",
   "metadata": {},
   "outputs": [],
   "source": []
  },
  {
   "cell_type": "code",
   "execution_count": null,
   "id": "cda174bb-63ca-45a7-ad1d-033f40da3316",
   "metadata": {},
   "outputs": [],
   "source": []
  },
  {
   "cell_type": "code",
   "execution_count": null,
   "id": "b8d1dd32-8514-4442-b2c1-1686a914aeb3",
   "metadata": {},
   "outputs": [],
   "source": []
  },
  {
   "cell_type": "code",
   "execution_count": null,
   "id": "6b1a4c42-25fd-4787-b264-f5b56629da06",
   "metadata": {},
   "outputs": [],
   "source": []
  },
  {
   "cell_type": "code",
   "execution_count": null,
   "id": "84365233-dccf-4ff8-a0ab-c43f5e6b61c3",
   "metadata": {},
   "outputs": [],
   "source": []
  },
  {
   "cell_type": "code",
   "execution_count": null,
   "id": "64b3d1b5-6770-439e-aa06-eec9633daf2f",
   "metadata": {},
   "outputs": [],
   "source": []
  },
  {
   "cell_type": "code",
   "execution_count": null,
   "id": "1ba3e9d8-26fb-4cbe-8458-fd566125ace3",
   "metadata": {},
   "outputs": [],
   "source": []
  },
  {
   "cell_type": "code",
   "execution_count": null,
   "id": "477e0ad8-3de6-427a-8ef2-b50f4d1a212f",
   "metadata": {},
   "outputs": [],
   "source": []
  },
  {
   "cell_type": "code",
   "execution_count": null,
   "id": "29e44b69-8ba7-4872-8967-b44529c34bba",
   "metadata": {},
   "outputs": [],
   "source": []
  },
  {
   "cell_type": "code",
   "execution_count": null,
   "id": "21a8eea5-c300-4a83-afad-a0b35a4cdc00",
   "metadata": {},
   "outputs": [],
   "source": []
  },
  {
   "cell_type": "code",
   "execution_count": null,
   "id": "07737727-c223-48dc-8c63-0ea4269683c7",
   "metadata": {},
   "outputs": [],
   "source": []
  },
  {
   "cell_type": "code",
   "execution_count": null,
   "id": "e744b922-6c40-4321-bdad-736e1e8082cd",
   "metadata": {},
   "outputs": [],
   "source": []
  },
  {
   "cell_type": "code",
   "execution_count": null,
   "id": "b2181468-6e07-46f0-bc65-e53d6d5dd087",
   "metadata": {},
   "outputs": [],
   "source": []
  }
 ],
 "metadata": {
  "kernelspec": {
   "display_name": "Python 3 (ipykernel)",
   "language": "python",
   "name": "python3"
  },
  "language_info": {
   "codemirror_mode": {
    "name": "ipython",
    "version": 3
   },
   "file_extension": ".py",
   "mimetype": "text/x-python",
   "name": "python",
   "nbconvert_exporter": "python",
   "pygments_lexer": "ipython3",
   "version": "3.9.20"
  }
 },
 "nbformat": 4,
 "nbformat_minor": 5
}
