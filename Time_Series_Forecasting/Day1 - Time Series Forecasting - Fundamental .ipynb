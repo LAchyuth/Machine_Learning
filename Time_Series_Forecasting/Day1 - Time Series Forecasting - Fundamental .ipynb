{
 "cells": [
  {
   "cell_type": "code",
   "execution_count": 1,
   "id": "8cc3841c",
   "metadata": {},
   "outputs": [],
   "source": [
    "import os\n",
    "import numpy as np\n",
    "import pandas as pd\n",
    "import matplotlib.pyplot as plt\n",
    "%matplotlib inline\n",
    "import seaborn as sns\n",
    "sns.set()\n",
    "import warnings\n",
    "warnings.filterwarnings('ignore')\n",
    "\n",
    "from datetime import datetime\n",
    "from pandas import Series\n",
    "from numpy import log"
   ]
  },
  {
   "cell_type": "code",
   "execution_count": 2,
   "id": "72b3fc61",
   "metadata": {},
   "outputs": [
    {
     "data": {
      "text/html": [
       "<div>\n",
       "<style scoped>\n",
       "    .dataframe tbody tr th:only-of-type {\n",
       "        vertical-align: middle;\n",
       "    }\n",
       "\n",
       "    .dataframe tbody tr th {\n",
       "        vertical-align: top;\n",
       "    }\n",
       "\n",
       "    .dataframe thead th {\n",
       "        text-align: right;\n",
       "    }\n",
       "</style>\n",
       "<table border=\"1\" class=\"dataframe\">\n",
       "  <thead>\n",
       "    <tr style=\"text-align: right;\">\n",
       "      <th></th>\n",
       "      <th>Month</th>\n",
       "      <th>Thousands of Passengers</th>\n",
       "    </tr>\n",
       "  </thead>\n",
       "  <tbody>\n",
       "    <tr>\n",
       "      <th>0</th>\n",
       "      <td>1949-01</td>\n",
       "      <td>112</td>\n",
       "    </tr>\n",
       "    <tr>\n",
       "      <th>1</th>\n",
       "      <td>1949-02</td>\n",
       "      <td>118</td>\n",
       "    </tr>\n",
       "    <tr>\n",
       "      <th>2</th>\n",
       "      <td>1949-03</td>\n",
       "      <td>132</td>\n",
       "    </tr>\n",
       "    <tr>\n",
       "      <th>3</th>\n",
       "      <td>1949-04</td>\n",
       "      <td>129</td>\n",
       "    </tr>\n",
       "    <tr>\n",
       "      <th>4</th>\n",
       "      <td>1949-05</td>\n",
       "      <td>121</td>\n",
       "    </tr>\n",
       "  </tbody>\n",
       "</table>\n",
       "</div>"
      ],
      "text/plain": [
       "     Month  Thousands of Passengers\n",
       "0  1949-01                      112\n",
       "1  1949-02                      118\n",
       "2  1949-03                      132\n",
       "3  1949-04                      129\n",
       "4  1949-05                      121"
      ]
     },
     "execution_count": 2,
     "metadata": {},
     "output_type": "execute_result"
    }
   ],
   "source": [
    "dataset = pd.read_csv(\"airline_passengers.csv\")\n",
    "dataset.head()"
   ]
  },
  {
   "cell_type": "code",
   "execution_count": 3,
   "id": "3ed4b7c4",
   "metadata": {},
   "outputs": [
    {
     "data": {
      "text/plain": [
       "Month                      0\n",
       "Thousands of Passengers    0\n",
       "dtype: int64"
      ]
     },
     "execution_count": 3,
     "metadata": {},
     "output_type": "execute_result"
    }
   ],
   "source": [
    "dataset.isnull().sum()"
   ]
  },
  {
   "cell_type": "code",
   "execution_count": 4,
   "id": "0be97940",
   "metadata": {},
   "outputs": [
    {
     "name": "stdout",
     "output_type": "stream",
     "text": [
      "<class 'pandas.core.frame.DataFrame'>\n",
      "RangeIndex: 144 entries, 0 to 143\n",
      "Data columns (total 2 columns):\n",
      " #   Column                   Non-Null Count  Dtype \n",
      "---  ------                   --------------  ----- \n",
      " 0   Month                    144 non-null    object\n",
      " 1   Thousands of Passengers  144 non-null    int64 \n",
      "dtypes: int64(1), object(1)\n",
      "memory usage: 2.4+ KB\n"
     ]
    }
   ],
   "source": [
    "dataset.info()"
   ]
  },
  {
   "cell_type": "code",
   "execution_count": 5,
   "id": "a0291e04",
   "metadata": {},
   "outputs": [
    {
     "name": "stdout",
     "output_type": "stream",
     "text": [
      "<class 'pandas.core.frame.DataFrame'>\n",
      "RangeIndex: 144 entries, 0 to 143\n",
      "Data columns (total 2 columns):\n",
      " #   Column                   Non-Null Count  Dtype         \n",
      "---  ------                   --------------  -----         \n",
      " 0   Month                    144 non-null    datetime64[ns]\n",
      " 1   Thousands of Passengers  144 non-null    int64         \n",
      "dtypes: datetime64[ns](1), int64(1)\n",
      "memory usage: 2.4 KB\n"
     ]
    }
   ],
   "source": [
    "dataset['Month'] = pd.to_datetime(dataset['Month'])\n",
    "dataset.info()"
   ]
  },
  {
   "cell_type": "code",
   "execution_count": 7,
   "id": "34b4117b",
   "metadata": {},
   "outputs": [],
   "source": [
    "dataset.set_index('Month', inplace=True)"
   ]
  },
  {
   "cell_type": "code",
   "execution_count": 10,
   "id": "a94735d4",
   "metadata": {},
   "outputs": [
    {
     "data": {
      "text/html": [
       "<div>\n",
       "<style scoped>\n",
       "    .dataframe tbody tr th:only-of-type {\n",
       "        vertical-align: middle;\n",
       "    }\n",
       "\n",
       "    .dataframe tbody tr th {\n",
       "        vertical-align: top;\n",
       "    }\n",
       "\n",
       "    .dataframe thead th {\n",
       "        text-align: right;\n",
       "    }\n",
       "</style>\n",
       "<table border=\"1\" class=\"dataframe\">\n",
       "  <thead>\n",
       "    <tr style=\"text-align: right;\">\n",
       "      <th></th>\n",
       "      <th>Thousands of Passengers</th>\n",
       "    </tr>\n",
       "    <tr>\n",
       "      <th>Month</th>\n",
       "      <th></th>\n",
       "    </tr>\n",
       "  </thead>\n",
       "  <tbody>\n",
       "    <tr>\n",
       "      <th>1949-01-01</th>\n",
       "      <td>112</td>\n",
       "    </tr>\n",
       "    <tr>\n",
       "      <th>1949-02-01</th>\n",
       "      <td>118</td>\n",
       "    </tr>\n",
       "    <tr>\n",
       "      <th>1949-03-01</th>\n",
       "      <td>132</td>\n",
       "    </tr>\n",
       "    <tr>\n",
       "      <th>1949-04-01</th>\n",
       "      <td>129</td>\n",
       "    </tr>\n",
       "    <tr>\n",
       "      <th>1949-05-01</th>\n",
       "      <td>121</td>\n",
       "    </tr>\n",
       "  </tbody>\n",
       "</table>\n",
       "</div>"
      ],
      "text/plain": [
       "            Thousands of Passengers\n",
       "Month                              \n",
       "1949-01-01                      112\n",
       "1949-02-01                      118\n",
       "1949-03-01                      132\n",
       "1949-04-01                      129\n",
       "1949-05-01                      121"
      ]
     },
     "execution_count": 10,
     "metadata": {},
     "output_type": "execute_result"
    }
   ],
   "source": [
    "dataset.head()"
   ]
  },
  {
   "cell_type": "code",
   "execution_count": 8,
   "id": "e3e29db6",
   "metadata": {},
   "outputs": [
    {
     "data": {
      "text/plain": [
       "<AxesSubplot:xlabel='Month'>"
      ]
     },
     "execution_count": 8,
     "metadata": {},
     "output_type": "execute_result"
    },
    {
     "data": {
      "image/png": "[encoded data removed]",
      "text/plain": [
       "<Figure size 640x480 with 1 Axes>"
      ]
     },
     "metadata": {},
     "output_type": "display_data"
    }
   ],
   "source": [
    "dataset.plot()"
   ]
  },
  {
   "cell_type": "code",
   "execution_count": 12,
   "id": "e372ce7b",
   "metadata": {},
   "outputs": [
    {
     "data": {
      "image/png": "[encoded data removed]",
      "text/plain": [
       "<Figure size 640x480 with 4 Axes>"
      ]
     },
     "metadata": {},
     "output_type": "display_data"
    }
   ],
   "source": [
    "# Decomposition to check dataset component \n",
    "from statsmodels.tsa.seasonal import seasonal_decompose\n",
    "\n",
    "decompose = seasonal_decompose(dataset['Thousands of Passengers'], model='additive',period=12)\n",
    "decompose.plot()\n",
    "plt.show()"
   ]
  },
  {
   "cell_type": "markdown",
   "id": "4ca1ebc1",
   "metadata": {},
   "source": [
    "# Check autocorrelation part - Durbin Watson Test"
   ]
  },
  {
   "cell_type": "code",
   "execution_count": 14,
   "id": "60ef0890",
   "metadata": {},
   "outputs": [],
   "source": [
    "import statsmodels.api as sm"
   ]
  },
  {
   "cell_type": "code",
   "execution_count": 15,
   "id": "cdd0ad4a",
   "metadata": {},
   "outputs": [
    {
     "data": {
      "text/plain": [
       "0.0121527966037621"
      ]
     },
     "execution_count": 15,
     "metadata": {},
     "output_type": "execute_result"
    }
   ],
   "source": [
    "sm.stats.durbin_watson(dataset['Thousands of Passengers'])"
   ]
  },
  {
   "cell_type": "markdown",
   "id": "a42132c4",
   "metadata": {},
   "source": [
    "# Check Data is Stationary or Non-Stationary"
   ]
  },
  {
   "cell_type": "code",
   "execution_count": 16,
   "id": "75dbdc3d",
   "metadata": {},
   "outputs": [],
   "source": [
    "# Augmented Dickey Fuller Test - check data stationiarity \n",
    "from statsmodels.tsa.stattools import adfuller"
   ]
  },
  {
   "cell_type": "code",
   "execution_count": 17,
   "id": "389b6109",
   "metadata": {},
   "outputs": [
    {
     "data": {
      "text/plain": [
       "(0.8153688792060482,\n",
       " 0.991880243437641,\n",
       " 13,\n",
       " 130,\n",
       " {'1%': -3.4816817173418295,\n",
       "  '5%': -2.8840418343195267,\n",
       "  '10%': -2.578770059171598},\n",
       " 996.692930839019)"
      ]
     },
     "execution_count": 17,
     "metadata": {},
     "output_type": "execute_result"
    }
   ],
   "source": [
    "adfuller(dataset['Thousands of Passengers'])"
   ]
  },
  {
   "cell_type": "code",
   "execution_count": 18,
   "id": "b4250132",
   "metadata": {},
   "outputs": [],
   "source": [
    "def stationarity(timeseries):\n",
    "    result = adfuller(timeseries)\n",
    "    print(\"Augmented Dickey Fuller Test - To check data is Stationary or Not\")\n",
    "    labels = ['ADF Test stats', 'P-Value','#Lags', 'No. of Observation']\n",
    "    \n",
    "    for i, j in zip(result, labels):\n",
    "        print(j + \" :-->\" + str(i) )\n",
    "        \n",
    "    if result[1] <=0.05:\n",
    "        print(\"Strong evidence against null hypothesis and my time series is Stationary\")\n",
    "    else:\n",
    "        print(\"Weak Evidence against null hypothesis and my times series is non-stationary\")"
   ]
  },
  {
   "cell_type": "code",
   "execution_count": 19,
   "id": "a907873f",
   "metadata": {},
   "outputs": [
    {
     "name": "stdout",
     "output_type": "stream",
     "text": [
      "Augmented Dickey Fuller Test - To check data is Stationary or Not\n",
      "ADF Test stats :-->0.8153688792060482\n",
      "P-Value :-->0.991880243437641\n",
      "#Lags :-->13\n",
      "No. of Observation :-->130\n",
      "Weak Evidence against null hypothesis and my times series is non-stationary\n"
     ]
    }
   ],
   "source": [
    "stationarity(dataset['Thousands of Passengers'])"
   ]
  },
  {
   "cell_type": "code",
   "execution_count": 20,
   "id": "02843d66",
   "metadata": {},
   "outputs": [],
   "source": [
    "dataset['1st Diff'] = dataset['Thousands of Passengers'] - dataset['Thousands of Passengers'].shift(1)"
   ]
  },
  {
   "cell_type": "code",
   "execution_count": 21,
   "id": "3898e6e6",
   "metadata": {},
   "outputs": [
    {
     "data": {
      "text/html": [
       "<div>\n",
       "<style scoped>\n",
       "    .dataframe tbody tr th:only-of-type {\n",
       "        vertical-align: middle;\n",
       "    }\n",
       "\n",
       "    .dataframe tbody tr th {\n",
       "        vertical-align: top;\n",
       "    }\n",
       "\n",
       "    .dataframe thead th {\n",
       "        text-align: right;\n",
       "    }\n",
       "</style>\n",
       "<table border=\"1\" class=\"dataframe\">\n",
       "  <thead>\n",
       "    <tr style=\"text-align: right;\">\n",
       "      <th></th>\n",
       "      <th>Thousands of Passengers</th>\n",
       "      <th>1st Diff</th>\n",
       "    </tr>\n",
       "    <tr>\n",
       "      <th>Month</th>\n",
       "      <th></th>\n",
       "      <th></th>\n",
       "    </tr>\n",
       "  </thead>\n",
       "  <tbody>\n",
       "    <tr>\n",
       "      <th>1949-01-01</th>\n",
       "      <td>112</td>\n",
       "      <td>NaN</td>\n",
       "    </tr>\n",
       "    <tr>\n",
       "      <th>1949-02-01</th>\n",
       "      <td>118</td>\n",
       "      <td>6.0</td>\n",
       "    </tr>\n",
       "    <tr>\n",
       "      <th>1949-03-01</th>\n",
       "      <td>132</td>\n",
       "      <td>14.0</td>\n",
       "    </tr>\n",
       "    <tr>\n",
       "      <th>1949-04-01</th>\n",
       "      <td>129</td>\n",
       "      <td>-3.0</td>\n",
       "    </tr>\n",
       "    <tr>\n",
       "      <th>1949-05-01</th>\n",
       "      <td>121</td>\n",
       "      <td>-8.0</td>\n",
       "    </tr>\n",
       "    <tr>\n",
       "      <th>1949-06-01</th>\n",
       "      <td>135</td>\n",
       "      <td>14.0</td>\n",
       "    </tr>\n",
       "    <tr>\n",
       "      <th>1949-07-01</th>\n",
       "      <td>148</td>\n",
       "      <td>13.0</td>\n",
       "    </tr>\n",
       "    <tr>\n",
       "      <th>1949-08-01</th>\n",
       "      <td>148</td>\n",
       "      <td>0.0</td>\n",
       "    </tr>\n",
       "    <tr>\n",
       "      <th>1949-09-01</th>\n",
       "      <td>136</td>\n",
       "      <td>-12.0</td>\n",
       "    </tr>\n",
       "    <tr>\n",
       "      <th>1949-10-01</th>\n",
       "      <td>119</td>\n",
       "      <td>-17.0</td>\n",
       "    </tr>\n",
       "  </tbody>\n",
       "</table>\n",
       "</div>"
      ],
      "text/plain": [
       "            Thousands of Passengers  1st Diff\n",
       "Month                                        \n",
       "1949-01-01                      112       NaN\n",
       "1949-02-01                      118       6.0\n",
       "1949-03-01                      132      14.0\n",
       "1949-04-01                      129      -3.0\n",
       "1949-05-01                      121      -8.0\n",
       "1949-06-01                      135      14.0\n",
       "1949-07-01                      148      13.0\n",
       "1949-08-01                      148       0.0\n",
       "1949-09-01                      136     -12.0\n",
       "1949-10-01                      119     -17.0"
      ]
     },
     "execution_count": 21,
     "metadata": {},
     "output_type": "execute_result"
    }
   ],
   "source": [
    "dataset.head(10)"
   ]
  },
  {
   "cell_type": "code",
   "execution_count": 24,
   "id": "86ec16b2",
   "metadata": {},
   "outputs": [
    {
     "name": "stdout",
     "output_type": "stream",
     "text": [
      "Augmented Dickey Fuller Test - To check data is Stationary or Not\n",
      "ADF Test stats :-->-2.8292668241699994\n",
      "P-Value :-->0.0542132902838255\n",
      "#Lags :-->12\n",
      "No. of Observation :-->130\n",
      "Weak Evidence against null hypothesis and my times series is non-stationary\n"
     ]
    }
   ],
   "source": [
    "stationarity(dataset['1st Diff'].dropna())"
   ]
  },
  {
   "cell_type": "code",
   "execution_count": 25,
   "id": "0a8ef65f",
   "metadata": {},
   "outputs": [],
   "source": [
    "dataset['2nd Diff'] = dataset['1st Diff'] - dataset['1st Diff'].shift(1)"
   ]
  },
  {
   "cell_type": "code",
   "execution_count": 26,
   "id": "ec9e136f",
   "metadata": {},
   "outputs": [
    {
     "data": {
      "text/html": [
       "<div>\n",
       "<style scoped>\n",
       "    .dataframe tbody tr th:only-of-type {\n",
       "        vertical-align: middle;\n",
       "    }\n",
       "\n",
       "    .dataframe tbody tr th {\n",
       "        vertical-align: top;\n",
       "    }\n",
       "\n",
       "    .dataframe thead th {\n",
       "        text-align: right;\n",
       "    }\n",
       "</style>\n",
       "<table border=\"1\" class=\"dataframe\">\n",
       "  <thead>\n",
       "    <tr style=\"text-align: right;\">\n",
       "      <th></th>\n",
       "      <th>Thousands of Passengers</th>\n",
       "      <th>1st Diff</th>\n",
       "      <th>2nd Diff</th>\n",
       "    </tr>\n",
       "    <tr>\n",
       "      <th>Month</th>\n",
       "      <th></th>\n",
       "      <th></th>\n",
       "      <th></th>\n",
       "    </tr>\n",
       "  </thead>\n",
       "  <tbody>\n",
       "    <tr>\n",
       "      <th>1949-01-01</th>\n",
       "      <td>112</td>\n",
       "      <td>NaN</td>\n",
       "      <td>NaN</td>\n",
       "    </tr>\n",
       "    <tr>\n",
       "      <th>1949-02-01</th>\n",
       "      <td>118</td>\n",
       "      <td>6.0</td>\n",
       "      <td>NaN</td>\n",
       "    </tr>\n",
       "    <tr>\n",
       "      <th>1949-03-01</th>\n",
       "      <td>132</td>\n",
       "      <td>14.0</td>\n",
       "      <td>8.0</td>\n",
       "    </tr>\n",
       "    <tr>\n",
       "      <th>1949-04-01</th>\n",
       "      <td>129</td>\n",
       "      <td>-3.0</td>\n",
       "      <td>-17.0</td>\n",
       "    </tr>\n",
       "    <tr>\n",
       "      <th>1949-05-01</th>\n",
       "      <td>121</td>\n",
       "      <td>-8.0</td>\n",
       "      <td>-5.0</td>\n",
       "    </tr>\n",
       "    <tr>\n",
       "      <th>1949-06-01</th>\n",
       "      <td>135</td>\n",
       "      <td>14.0</td>\n",
       "      <td>22.0</td>\n",
       "    </tr>\n",
       "    <tr>\n",
       "      <th>1949-07-01</th>\n",
       "      <td>148</td>\n",
       "      <td>13.0</td>\n",
       "      <td>-1.0</td>\n",
       "    </tr>\n",
       "    <tr>\n",
       "      <th>1949-08-01</th>\n",
       "      <td>148</td>\n",
       "      <td>0.0</td>\n",
       "      <td>-13.0</td>\n",
       "    </tr>\n",
       "    <tr>\n",
       "      <th>1949-09-01</th>\n",
       "      <td>136</td>\n",
       "      <td>-12.0</td>\n",
       "      <td>-12.0</td>\n",
       "    </tr>\n",
       "    <tr>\n",
       "      <th>1949-10-01</th>\n",
       "      <td>119</td>\n",
       "      <td>-17.0</td>\n",
       "      <td>-5.0</td>\n",
       "    </tr>\n",
       "  </tbody>\n",
       "</table>\n",
       "</div>"
      ],
      "text/plain": [
       "            Thousands of Passengers  1st Diff  2nd Diff\n",
       "Month                                                  \n",
       "1949-01-01                      112       NaN       NaN\n",
       "1949-02-01                      118       6.0       NaN\n",
       "1949-03-01                      132      14.0       8.0\n",
       "1949-04-01                      129      -3.0     -17.0\n",
       "1949-05-01                      121      -8.0      -5.0\n",
       "1949-06-01                      135      14.0      22.0\n",
       "1949-07-01                      148      13.0      -1.0\n",
       "1949-08-01                      148       0.0     -13.0\n",
       "1949-09-01                      136     -12.0     -12.0\n",
       "1949-10-01                      119     -17.0      -5.0"
      ]
     },
     "execution_count": 26,
     "metadata": {},
     "output_type": "execute_result"
    }
   ],
   "source": [
    "dataset.head(10)"
   ]
  },
  {
   "cell_type": "code",
   "execution_count": 27,
   "id": "b2e47e91",
   "metadata": {},
   "outputs": [
    {
     "name": "stdout",
     "output_type": "stream",
     "text": [
      "Augmented Dickey Fuller Test - To check data is Stationary or Not\n",
      "ADF Test stats :-->-16.384231542468505\n",
      "P-Value :-->2.7328918500142407e-29\n",
      "#Lags :-->11\n",
      "No. of Observation :-->130\n",
      "Strong evidence against null hypothesis and my time series is Stationary\n"
     ]
    }
   ],
   "source": [
    "stationarity(dataset['2nd Diff'].dropna())"
   ]
  },
  {
   "cell_type": "code",
   "execution_count": null,
   "id": "80b17f0d",
   "metadata": {},
   "outputs": [],
   "source": [
    "# parameter - p d q (Trend)\n",
    "# d = 2"
   ]
  },
  {
   "cell_type": "code",
   "execution_count": null,
   "id": "cecd26e5",
   "metadata": {},
   "outputs": [],
   "source": []
  }
 ],
 "metadata": {
  "kernelspec": {
   "display_name": "Python 3 (ipykernel)",
   "language": "python",
   "name": "python3"
  },
  "language_info": {
   "codemirror_mode": {
    "name": "ipython",
    "version": 3
   },
   "file_extension": ".py",
   "mimetype": "text/x-python",
   "name": "python",
   "nbconvert_exporter": "python",
   "pygments_lexer": "ipython3",
   "version": "3.9.13"
  }
 },
 "nbformat": 4,
 "nbformat_minor": 5
}
